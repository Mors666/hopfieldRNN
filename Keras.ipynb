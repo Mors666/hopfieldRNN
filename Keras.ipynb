{
  "nbformat": 4,
  "nbformat_minor": 0,
  "metadata": {
    "colab": {
      "name": "Hopfield RNN.ipynb",
      "provenance": [],
      "collapsed_sections": [],
      "authorship_tag": "ABX9TyOlCh/8BzKN1wapZvNr5Xak",
      "include_colab_link": true
    },
    "kernelspec": {
      "name": "python3",
      "display_name": "Python 3"
    }
  },
  "cells": [
    {
      "cell_type": "markdown",
      "metadata": {
        "id": "view-in-github",
        "colab_type": "text"
      },
      "source": [
        "<a href=\"https://colab.research.google.com/github/Mors666/hopfieldRNN/blob/master/Keras.ipynb\" target=\"_parent\"><img src=\"https://colab.research.google.com/assets/colab-badge.svg\" alt=\"Open In Colab\"/></a>"
      ]
    },
    {
      "cell_type": "code",
      "metadata": {
        "id": "hLJRmR2TAwLH",
        "colab_type": "code",
        "outputId": "f2f5053c-6aa2-413e-becd-945fa3ff0553",
        "colab": {
          "base_uri": "https://localhost:8080/",
          "height": 35
        }
      },
      "source": [
        "%tensorflow_version 2.x\n",
        "import tensorflow as tf\n",
        "device_name = tf.test.gpu_device_name()\n",
        "#if device_name != '/device:GPU:0':\n",
        " # raise SystemError('GPU device not found')\n",
        "print('Found GPU at: {}'.format(device_name))"
      ],
      "execution_count": 1,
      "outputs": [
        {
          "output_type": "stream",
          "text": [
            "Found GPU at: \n"
          ],
          "name": "stdout"
        }
      ]
    },
    {
      "cell_type": "code",
      "metadata": {
        "id": "RS9Ez_X67sy3",
        "colab_type": "code",
        "outputId": "44788faa-1e27-45b6-d316-f4e8b8227823",
        "colab": {
          "base_uri": "https://localhost:8080/",
          "height": 52
        }
      },
      "source": [
        "tf.config.experimental.list_physical_devices()"
      ],
      "execution_count": 2,
      "outputs": [
        {
          "output_type": "execute_result",
          "data": {
            "text/plain": [
              "[PhysicalDevice(name='/physical_device:CPU:0', device_type='CPU'),\n",
              " PhysicalDevice(name='/physical_device:XLA_CPU:0', device_type='XLA_CPU')]"
            ]
          },
          "metadata": {
            "tags": []
          },
          "execution_count": 2
        }
      ]
    },
    {
      "cell_type": "code",
      "metadata": {
        "id": "d-lQoJ1zBH4O",
        "colab_type": "code",
        "outputId": "cc93cdf8-615c-4ab6-a0eb-a4d5d1f8d97d",
        "colab": {
          "base_uri": "https://localhost:8080/",
          "height": 35
        }
      },
      "source": [
        "tf.test.is_built_with_cuda()"
      ],
      "execution_count": 3,
      "outputs": [
        {
          "output_type": "execute_result",
          "data": {
            "text/plain": [
              "True"
            ]
          },
          "metadata": {
            "tags": []
          },
          "execution_count": 3
        }
      ]
    },
    {
      "cell_type": "code",
      "metadata": {
        "id": "DGmFwtzRCZp9",
        "colab_type": "code",
        "colab": {}
      },
      "source": [
        "import numpy as np  \n",
        "from sympy import KroneckerDelta as kron\n",
        "import tensorflow as tf\n",
        "import matplotlib.pyplot as plt\n",
        "import time\n",
        "import random\n",
        "from multiprocessing import Process, Queue\n",
        "from tensorflow import keras\n",
        "from tensorflow.keras import backend as K\n",
        "from tensorflow.keras.layers import  SimpleRNNCell"
      ],
      "execution_count": 0,
      "outputs": []
    },
    {
      "cell_type": "code",
      "metadata": {
        "id": "nAcdflAACi2n",
        "colab_type": "code",
        "outputId": "264690e9-6b1f-40b9-bc47-c81a003b3cb1",
        "colab": {
          "base_uri": "https://localhost:8080/",
          "height": 364
        }
      },
      "source": [
        "n = 20 #общее число работников в организации (кол-во вершин графа)\n",
        "C = np.random.randint(0, 11, (n, n)) #затраты ребер графа (целые значения от 0 до 10)\n",
        "#np.around(np.random.uniform(0, 1, (n,n)),decimals=2)  \n",
        "C = np.tril(C) + np.tril(C, -1).T #матрица затрат должна быть симметричной\n",
        "np.fill_diagonal(C, 0, wrap=False) \n",
        "print(C)"
      ],
      "execution_count": 5,
      "outputs": [
        {
          "output_type": "stream",
          "text": [
            "[[ 0  5  4  9 10  6  3  5  9  1  2  7  5  4  5 10  0  4  7  7]\n",
            " [ 5  0  0 10  4  6  7  8  3  6  8  4  5  9  0  7  5  4  6  5]\n",
            " [ 4  0  0  5  9  5  6  5  1  4 10  2  1  3  5  3  0  4  7  6]\n",
            " [ 9 10  5  0  8  5  3  0  2  3  6  3  8  4  9  2  8 10  9  1]\n",
            " [10  4  9  8  0  6  7  0  8  8  6  0  2  7  7  5  9  8  1  0]\n",
            " [ 6  6  5  5  6  0  8  9  4  7  7  7  6 10  5  3  4  1  5  5]\n",
            " [ 3  7  6  3  7  8  0  9  0  7  2  4  8  2  7  9  6  5  5  3]\n",
            " [ 5  8  5  0  0  9  9  0 10  9  3  6  9  3  5 10  6  4  3  0]\n",
            " [ 9  3  1  2  8  4  0 10  0 10 10  9  8  9  6  8  5 10  9  3]\n",
            " [ 1  6  4  3  8  7  7  9 10  0  2  8  2  9 10  1  6  3  3  8]\n",
            " [ 2  8 10  6  6  7  2  3 10  2  0  1  1  1  9  8  5  8  2  3]\n",
            " [ 7  4  2  3  0  7  4  6  9  8  1  0  1 10  5  8  0  5  4  0]\n",
            " [ 5  5  1  8  2  6  8  9  8  2  1  1  0  1  9  2 10  2  6  7]\n",
            " [ 4  9  3  4  7 10  2  3  9  9  1 10  1  0  5  1  9  7  8 10]\n",
            " [ 5  0  5  9  7  5  7  5  6 10  9  5  9  5  0  3 10  9  0  8]\n",
            " [10  7  3  2  5  3  9 10  8  1  8  8  2  1  3  0  3  0  9  5]\n",
            " [ 0  5  0  8  9  4  6  6  5  6  5  0 10  9 10  3  0  4  9  5]\n",
            " [ 4  4  4 10  8  1  5  4 10  3  8  5  2  7  9  0  4  0  5  4]\n",
            " [ 7  6  7  9  1  5  5  3  9  3  2  4  6  8  0  9  9  5  0  6]\n",
            " [ 7  5  6  1  0  5  3  0  3  8  3  0  7 10  8  5  5  4  6  0]]\n"
          ],
          "name": "stdout"
        }
      ]
    },
    {
      "cell_type": "code",
      "metadata": {
        "id": "ME-YE7qBCyFZ",
        "colab_type": "code",
        "outputId": "df9f174a-0e1a-48fd-dbf8-fc3106fe2aba",
        "colab": {
          "base_uri": "https://localhost:8080/",
          "height": 381
        }
      },
      "source": [
        "P = np.random.randint(0, 2, (n, n)) #несуществующие ребра графа\n",
        "P = np.tril(P) + np.tril(P, -1).T\n",
        "#P = (P + P.T)/2\n",
        "np.fill_diagonal(P, 1, wrap=False)\n",
        "print('матрица несуществующих ребер')\n",
        "print(P)"
      ],
      "execution_count": 6,
      "outputs": [
        {
          "output_type": "stream",
          "text": [
            "матрица несуществующих ребер\n",
            "[[1 1 0 0 1 0 0 1 1 0 0 1 1 1 1 1 1 1 1 1]\n",
            " [1 1 1 1 0 0 1 0 1 1 1 0 0 1 0 1 1 1 0 1]\n",
            " [0 1 1 0 1 0 0 1 1 1 1 0 0 1 1 1 1 1 1 0]\n",
            " [0 1 0 1 0 1 1 1 1 1 1 1 0 1 1 1 0 0 1 0]\n",
            " [1 0 1 0 1 1 0 0 1 1 0 0 1 1 0 1 0 1 0 0]\n",
            " [0 0 0 1 1 1 1 1 0 0 0 0 1 0 0 0 1 0 0 1]\n",
            " [0 1 0 1 0 1 1 0 1 0 1 1 1 1 1 1 0 0 0 1]\n",
            " [1 0 1 1 0 1 0 1 0 1 0 0 1 0 1 0 0 0 0 0]\n",
            " [1 1 1 1 1 0 1 0 1 0 1 0 1 0 0 0 1 1 1 1]\n",
            " [0 1 1 1 1 0 0 1 0 1 0 0 0 1 0 1 0 0 0 0]\n",
            " [0 1 1 1 0 0 1 0 1 0 1 1 1 1 1 1 0 0 0 1]\n",
            " [1 0 0 1 0 0 1 0 0 0 1 1 1 1 0 1 0 0 0 0]\n",
            " [1 0 0 0 1 1 1 1 1 0 1 1 1 1 1 0 1 0 0 1]\n",
            " [1 1 1 1 1 0 1 0 0 1 1 1 1 1 1 1 1 0 1 0]\n",
            " [1 0 1 1 0 0 1 1 0 0 1 0 1 1 1 1 1 1 1 1]\n",
            " [1 1 1 1 1 0 1 0 0 1 1 1 0 1 1 1 1 1 1 1]\n",
            " [1 1 1 0 0 1 0 0 1 0 0 0 1 1 1 1 1 1 1 0]\n",
            " [1 1 1 0 1 0 0 0 1 0 0 0 0 0 1 1 1 1 0 1]\n",
            " [1 0 1 1 0 0 0 0 1 0 0 0 0 1 1 1 1 0 1 0]\n",
            " [1 1 0 0 0 1 1 0 1 0 1 0 1 0 1 1 0 1 0 1]]\n"
          ],
          "name": "stdout"
        }
      ]
    },
    {
      "cell_type": "code",
      "metadata": {
        "id": "gCnb0kVmC6aO",
        "colab_type": "code",
        "outputId": "1e4e59bb-9faa-42cd-867a-1d59e81b5980",
        "colab": {
          "base_uri": "https://localhost:8080/",
          "height": 381
        }
      },
      "source": [
        "for i in range(n):\n",
        "    for j in range(n):\n",
        "        if P[i][j] == 1:\n",
        "            C[i][j] = 10\n",
        "print('матрица затрат')\n",
        "print(C)"
      ],
      "execution_count": 7,
      "outputs": [
        {
          "output_type": "stream",
          "text": [
            "матрица затрат\n",
            "[[10 10  4  9 10  6  3 10 10  1  2 10 10 10 10 10 10 10 10 10]\n",
            " [10 10 10 10  4  6 10  8 10 10 10  4  5 10  0 10 10 10  6 10]\n",
            " [ 4 10 10  5 10  5  6 10 10 10 10  2  1 10 10 10 10 10 10  6]\n",
            " [ 9 10  5 10  8 10 10 10 10 10 10 10  8 10 10 10  8 10 10  1]\n",
            " [10  4 10  8 10 10  7  0 10 10  6  0 10 10  7 10  9 10  1  0]\n",
            " [ 6  6  5 10 10 10 10 10  4  7  7  7 10 10  5  3 10  1  5 10]\n",
            " [ 3 10  6 10  7 10 10  9 10  7 10 10 10 10 10 10  6  5  5 10]\n",
            " [10  8 10 10  0 10  9 10 10 10  3  6 10  3 10 10  6  4  3  0]\n",
            " [10 10 10 10 10  4 10 10 10 10 10  9 10  9  6  8 10 10 10 10]\n",
            " [ 1 10 10 10 10  7  7 10 10 10  2  8  2 10 10 10  6  3  3  8]\n",
            " [ 2 10 10 10  6  7 10  3 10  2 10 10 10 10 10 10  5  8  2 10]\n",
            " [10  4  2 10  0  7 10  6  9  8 10 10 10 10  5 10  0  5  4  0]\n",
            " [10  5  1  8 10 10 10 10 10  2 10 10 10 10 10  2 10  2  6 10]\n",
            " [10 10 10 10 10 10 10  3  9 10 10 10 10 10 10 10 10  7 10 10]\n",
            " [10  0 10 10  7  5 10 10  6 10 10  5 10 10 10 10 10 10 10 10]\n",
            " [10 10 10 10 10  3 10 10  8 10 10 10  2 10 10 10 10 10 10 10]\n",
            " [10 10 10  8  9 10  6  6 10  6  5  0 10 10 10 10 10 10 10  5]\n",
            " [10 10 10 10 10  1  5  4 10  3  8  5  2  7 10 10 10 10  5 10]\n",
            " [10  6 10 10  1  5  5  3 10  3  2  4  6 10 10 10 10  5 10  6]\n",
            " [10 10  6  1  0 10 10  0 10  8 10  0 10 10 10 10  5 10  6 10]]\n"
          ],
          "name": "stdout"
        }
      ]
    },
    {
      "cell_type": "code",
      "metadata": {
        "id": "YY-Zq1lMDGFv",
        "colab_type": "code",
        "outputId": "ba2df190-aa9a-46a0-e402-456c22113c55",
        "colab": {
          "base_uri": "https://localhost:8080/",
          "height": 35
        }
      },
      "source": [
        "#константы:\n",
        "mu1 =950#3000\n",
        "mu2 = 475#480\n",
        "mu3 = 1500#50000\n",
        "mu4 = 2500#15000\n",
        "mu5 = 2500#50000\n",
        "A = 0.0001\n",
        "B = 0.00001\n",
        "D = 0.00001\n",
        "ex_number = np.around(n*2/3, decimals=0) # 2/3 - кол-во исполнителей относительно общего числа рработников\n",
        "director = 0 #номер узла, соответствующего топ-менеджеру в иерархии\n",
        "executors = random.sample(range(1,n), int(ex_number)) #случайно выбранные индексы исполнителей  \n",
        "print(executors)"
      ],
      "execution_count": 8,
      "outputs": [
        {
          "output_type": "stream",
          "text": [
            "[14, 13, 15, 5, 8, 18, 4, 1, 3, 6, 2, 17, 16]\n"
          ],
          "name": "stdout"
        }
      ]
    },
    {
      "cell_type": "code",
      "metadata": {
        "id": "dC7gnNR9DNE4",
        "colab_type": "code",
        "colab": {}
      },
      "source": [
        "weights = np.zeros((n*n,n*n)) "
      ],
      "execution_count": 0,
      "outputs": []
    },
    {
      "cell_type": "code",
      "metadata": {
        "id": "7jj38nHhDW1F",
        "colab_type": "code",
        "colab": {}
      },
      "source": [
        "def init_weights():\n",
        "    start = time.time()\n",
        "      \n",
        "    for x in range(n):\n",
        "        for i in range(n):\n",
        "            for y in range(n):\n",
        "                for j in range(n):\n",
        "                 \n",
        "                    weights[x*n+i,y*n+j] = mu2*kron(x, y)*kron(i, j) - mu4*kron(x, y) - mu4*kron(i, j) + mu4*kron(j, x) + mu4*kron(i, y)\n",
        "    \n",
        "    finish = time.time()\n",
        "    result = finish - start\n",
        "    print(\"Время на инициализацию матрицы весов: \" + str(result) + \" секунд\")\n",
        "    return weights"
      ],
      "execution_count": 0,
      "outputs": []
    },
    {
      "cell_type": "code",
      "metadata": {
        "id": "KJieH5HVDf1t",
        "colab_type": "code",
        "outputId": "94c9ce30-d492-4a72-868b-491cda559d1c",
        "colab": {
          "base_uri": "https://localhost:8080/",
          "height": 156
        }
      },
      "source": [
        "weights = init_weights()\n",
        "print(weights)"
      ],
      "execution_count": 11,
      "outputs": [
        {
          "output_type": "stream",
          "text": [
            "Время на инициализацию матрицы весов: 2.323946237564087 секунд\n",
            "[[  475.     0.     0. ...     0.     0.     0.]\n",
            " [    0. -4525. -2500. ...     0.     0.     0.]\n",
            " [    0. -2500. -4525. ...     0.     0.     0.]\n",
            " ...\n",
            " [    0.     0.     0. ... -4525. -2500.     0.]\n",
            " [    0.     0.     0. ... -2500. -4525.     0.]\n",
            " [    0.     0.     0. ...     0.     0.   475.]]\n"
          ],
          "name": "stdout"
        }
      ]
    },
    {
      "cell_type": "code",
      "metadata": {
        "id": "c7RU1NhsDuIi",
        "colab_type": "code",
        "colab": {}
      },
      "source": [
        "def weights_init(shape, dtype='float32'): #инициализатор весов нейронов               \n",
        "    return K.variable(value=weights, dtype=dtype)"
      ],
      "execution_count": 0,
      "outputs": []
    },
    {
      "cell_type": "code",
      "metadata": {
        "id": "dkz-vhdOD72i",
        "colab_type": "code",
        "colab": {}
      },
      "source": [
        "def energy(m,OUT, ftype,out_from_others = []):\n",
        "    OUT = K.reshape(OUT, (n,n))\n",
        "    #ftype = ftype + OUT\n",
        "     \n",
        "    E1 = 0 \n",
        "    E2 = 0\n",
        "    E3 = 0\n",
        "    E4 = 0\n",
        "    E5 = 0\n",
        "    for x in range(n):\n",
        "        for i in range(n):\n",
        "            if (i != x) and (x!=m and i!=director):\n",
        "                E1 = E1 + C[x][i]*(1/(1+ftype[x][i]))*OUT[x][i]  \n",
        "                E3 = E3+P[x][i]*OUT[x][i]\n",
        "            if i != x:\n",
        "                E2 = E2 + OUT[x][i]*(1-OUT[x][i])\n",
        "                 \n",
        "                \n",
        "    out1=0\n",
        "    out2=0\n",
        "    #square=0\n",
        "    for x in range(n):\n",
        "        for i in range(n):\n",
        "            if i != x:\n",
        "                out1 = out1+OUT[x][i]\n",
        "                out2 = out2+OUT[i][x]\n",
        "        #square = (out1-out2)*(out1-out2)\n",
        "        E4 = E4 + (out1-out2)*(out1-out2)\n",
        "        \n",
        "    E5 = 1-OUT[m][director]\n",
        "    \n",
        "    E = mu1*E1 + mu2*E2 + mu3*E3 + mu4*E4 + mu5*E5\n",
        "    \n",
        "    OUT = K.reshape(OUT, (n*n,1))\n",
        "    return E"
      ],
      "execution_count": 0,
      "outputs": []
    },
    {
      "cell_type": "code",
      "metadata": {
        "id": "iMs4EjWzD-fY",
        "colab_type": "code",
        "colab": {}
      },
      "source": [
        "def bias_init(shape, dtype='float32'): #инициализатор смещения нейронов (bias)\n",
        "        bias = np.zeros((n,n))\n",
        "        for x in range (n):\n",
        "            for i in range (n):\n",
        "                if (x==m and i==director):\n",
        "                    bias[x][i] = mu5/2-mu2/2\n",
        "                else:\n",
        "                    bias[x][i] = -mu1/2*C[x][i]*ftype[x][i]-mu3/2*P[x][i]-mu2/2 \n",
        "     \n",
        "        bias=np.concatenate(bias)\n",
        "        b = np.zeros((n*n,1))\n",
        " \n",
        "        for x in range (n*n):\n",
        "            b[x][0]= bias[x]\n",
        "        #b = b.shape((n*n,1))\n",
        "        return K.variable(value=b, dtype=dtype)"
      ],
      "execution_count": 0,
      "outputs": []
    },
    {
      "cell_type": "code",
      "metadata": {
        "id": "JMD22IHMEF66",
        "colab_type": "code",
        "colab": {}
      },
      "source": [
        "def input_tensor():  \n",
        "        IN = np.full((n,n), 0.5 + np.random.uniform(-0.00001, 0.00001, (n,n)))  # 0.00001 \n",
        "        IN.shape = (n*n,1)\n",
        "        return K.variable(value=IN, dtype='float32')"
      ],
      "execution_count": 0,
      "outputs": []
    },
    {
      "cell_type": "code",
      "metadata": {
        "id": "uercAXg6EKru",
        "colab_type": "code",
        "colab": {}
      },
      "source": [
        "class RNN(SimpleRNNCell): #сеть Хопфилда для конкретного исполнителя\n",
        "    def __init__(self,**kwargs):\n",
        "        super(RNN, self).__init__(**kwargs)\n",
        "        #self.weights = weights\n",
        "        self.prev_in = [] #входные значения с предыдущих итераций\n",
        "        self.energies = [] #значения функции энергии\n",
        "        self.prev_energy = np.Infinity #значение энергии на предыдущей итерации\n",
        "        self.worker = -1 #номер узла исполнителя, для которого используется сеть\n",
        "        self.stop = False #для остановки в случае увеличения энергии\n",
        "        self.result = input_tensor() #выходной сигнал после определенной итерации\n",
        "        \n",
        "    def build(self,input_shape):\n",
        "        self.kernel = weights_init((n*n,n*n)) #self.add_weight(shape=(input_shape[-1], self.units),\n",
        "                        #              name='kernel',\n",
        "                         #             initializer=self.kernel_initializer  )\n",
        "          \n",
        "        self.bias =  bias_init((n,n))\n",
        "        \n",
        "        self.built = True\n",
        "        #super(RNN, self).build(input_shape)\n",
        "        \n",
        "    def threshold(self, out, threshold_value=0.5): #пороговая функция сети\n",
        "        return K.cast(K.greater(K.clip(out, 0, 1), threshold_value), dtype='float32')\n",
        "     \n",
        "     \n",
        "    def call(self,inputs,states=[], training=None ): #функция, совершающая 1 итерацию сети\n",
        "        inputs = K.reshape(inputs, (1,n*n))\n",
        "         \n",
        "        output = K.dot(  K.reshape( inputs,(1,n*n)),self.kernel) \n",
        "        #output = output + self.bias\n",
        "        \n",
        "        output = K.bias_add(output,  K.reshape(self.bias,(n*n,)))\n",
        "        output = self.activation(output)\n",
        "        inputs = output\n",
        "          \n",
        "        if len(self.prev_in) ==1:\n",
        "            inputs = self.prev_in[0] + D*output\n",
        "             \n",
        "        elif len(self.prev_in) ==2:\n",
        "            inputs =  self.prev_in[1] - A*self.prev_in[0] + D*output\n",
        "            \n",
        "        elif len(self.prev_in) > 2:\n",
        "            inputs = self.prev_in[len(self.prev_in)-1] - A*self.prev_in[len(self.prev_in)-2] - B*self.prev_in[len(self.prev_in)-3]+ D*output\n",
        "             \n",
        "        self.prev_in.append(inputs)\n",
        "        \n",
        "        return  inputs "
      ],
      "execution_count": 0,
      "outputs": []
    },
    {
      "cell_type": "code",
      "metadata": {
        "id": "bHkx6w46EZvJ",
        "colab_type": "code",
        "colab": {}
      },
      "source": [
        "def create_RNN(m):\n",
        "    mRNN = RNN(                         #создание экземпляра нейронной сети для конкретного исполнителя\n",
        "               units=n,\n",
        "               activation='sigmoid',\n",
        "               use_bias=True,\n",
        "               kernel_initializer=weights_init,\n",
        "               recurrent_initializer=weights_init,\n",
        "               bias_initializer=bias_init,\n",
        "               kernel_regularizer=None,\n",
        "               recurrent_regularizer=None,\n",
        "               bias_regularizer=None,\n",
        "               kernel_constraint=None,\n",
        "               recurrent_constraint=None,\n",
        "               bias_constraint=None,\n",
        "               dropout=0.,\n",
        "               recurrent_dropout=0.,)\n",
        "\n",
        "    mRNN.build((n*n,)) #формирование сети\n",
        "    #all_RNN.append(mRNN)\n",
        "    mRNN.worker = m\n",
        "    return mRNN"
      ],
      "execution_count": 0,
      "outputs": []
    },
    {
      "cell_type": "code",
      "metadata": {
        "id": "yc0cMj7VEb5O",
        "colab_type": "code",
        "colab": {}
      },
      "source": [
        "def one_iteration(i,q): #\n",
        "    all_RNN[i].bias = bias_init(shape = (n,n)) \n",
        "    all_RNN[i].prev_in.append( all_RNN[i].call(inputs=all_RNN[i].result)) #\n",
        "    #mOUT = all_RNN[i].threshold(all_RNN[i].call(inputs=all_RNN[i].result))\n",
        "    #global ftype \n",
        "    \n",
        "    if (K.eval(all_RNN[i].prev_energy) - K.eval(energy(all_RNN[i].worker,all_RNN[i].call(inputs=all_RNN[i].result),ftype)))<1e-5:\n",
        "                                                       #all_RNN[i].prev_in[len(all_RNN[i].prev_in)-1],ftype)):\n",
        "        \n",
        "        ''' print('stop')\n",
        "        print(K.eval(all_RNN[i].prev_energy))\n",
        "        print(K.eval(energy(all_RNN[i].worker,mOUT,ftype)))'''\n",
        "        all_RNN[i].stop = True\n",
        "        all_RNN[i].result = all_RNN[i].threshold(all_RNN[i].prev_in[len(all_RNN[i].prev_in)-2])\n",
        "         \n",
        "    else:\n",
        "        all_RNN[i].prev_energy =  energy(all_RNN[i].worker,all_RNN[i].call(inputs=all_RNN[i].result),ftype)\n",
        "                                         #all_RNN[i].prev_in[len(all_RNN[i].prev_in)-1], ftype) #(iter < 10) or\n",
        "        all_RNN[i].energies.append(all_RNN[i].prev_energy)\n",
        "         \n",
        "        all_RNN[i].result = all_RNN[i].call(inputs=all_RNN[i].result)#all_RNN[i].prev_in[len(all_RNN[i].prev_in)-1]\n",
        "         \n",
        "    q.put([all_RNN[i].result,all_RNN[i].prev_energy,all_RNN[i].stop,all_RNN[i].prev_in,all_RNN[i].energies])"
      ],
      "execution_count": 0,
      "outputs": []
    },
    {
      "cell_type": "code",
      "metadata": {
        "id": "ARMALjDdHMHP",
        "colab_type": "code",
        "outputId": "fc8e6c44-963a-49e2-c16c-919f415d2fb9",
        "colab": {
          "base_uri": "https://localhost:8080/",
          "height": 1000
        }
      },
      "source": [
        "ftype = np.zeros((n,n))\n",
        "m=0\n",
        "print(bias_init(shape = (n,n)))"
      ],
      "execution_count": 19,
      "outputs": [
        {
          "output_type": "stream",
          "text": [
            "<tf.Variable 'Variable:0' shape=(400, 1) dtype=float32, numpy=\n",
            "array([[1012.5],\n",
            "       [-987.5],\n",
            "       [-237.5],\n",
            "       [-237.5],\n",
            "       [-987.5],\n",
            "       [-237.5],\n",
            "       [-237.5],\n",
            "       [-987.5],\n",
            "       [-987.5],\n",
            "       [-237.5],\n",
            "       [-237.5],\n",
            "       [-987.5],\n",
            "       [-987.5],\n",
            "       [-987.5],\n",
            "       [-987.5],\n",
            "       [-987.5],\n",
            "       [-987.5],\n",
            "       [-987.5],\n",
            "       [-987.5],\n",
            "       [-987.5],\n",
            "       [-987.5],\n",
            "       [-987.5],\n",
            "       [-987.5],\n",
            "       [-987.5],\n",
            "       [-237.5],\n",
            "       [-237.5],\n",
            "       [-987.5],\n",
            "       [-237.5],\n",
            "       [-987.5],\n",
            "       [-987.5],\n",
            "       [-987.5],\n",
            "       [-237.5],\n",
            "       [-237.5],\n",
            "       [-987.5],\n",
            "       [-237.5],\n",
            "       [-987.5],\n",
            "       [-987.5],\n",
            "       [-987.5],\n",
            "       [-237.5],\n",
            "       [-987.5],\n",
            "       [-237.5],\n",
            "       [-987.5],\n",
            "       [-987.5],\n",
            "       [-237.5],\n",
            "       [-987.5],\n",
            "       [-237.5],\n",
            "       [-237.5],\n",
            "       [-987.5],\n",
            "       [-987.5],\n",
            "       [-987.5],\n",
            "       [-987.5],\n",
            "       [-237.5],\n",
            "       [-237.5],\n",
            "       [-987.5],\n",
            "       [-987.5],\n",
            "       [-987.5],\n",
            "       [-987.5],\n",
            "       [-987.5],\n",
            "       [-987.5],\n",
            "       [-237.5],\n",
            "       [-237.5],\n",
            "       [-987.5],\n",
            "       [-237.5],\n",
            "       [-987.5],\n",
            "       [-237.5],\n",
            "       [-987.5],\n",
            "       [-987.5],\n",
            "       [-987.5],\n",
            "       [-987.5],\n",
            "       [-987.5],\n",
            "       [-987.5],\n",
            "       [-987.5],\n",
            "       [-237.5],\n",
            "       [-987.5],\n",
            "       [-987.5],\n",
            "       [-987.5],\n",
            "       [-237.5],\n",
            "       [-237.5],\n",
            "       [-987.5],\n",
            "       [-237.5],\n",
            "       [-987.5],\n",
            "       [-237.5],\n",
            "       [-987.5],\n",
            "       [-237.5],\n",
            "       [-987.5],\n",
            "       [-987.5],\n",
            "       [-237.5],\n",
            "       [-237.5],\n",
            "       [-987.5],\n",
            "       [-987.5],\n",
            "       [-237.5],\n",
            "       [-237.5],\n",
            "       [-987.5],\n",
            "       [-987.5],\n",
            "       [-237.5],\n",
            "       [-987.5],\n",
            "       [-237.5],\n",
            "       [-987.5],\n",
            "       [-237.5],\n",
            "       [-237.5],\n",
            "       [-237.5],\n",
            "       [-237.5],\n",
            "       [-237.5],\n",
            "       [-987.5],\n",
            "       [-987.5],\n",
            "       [-987.5],\n",
            "       [-987.5],\n",
            "       [-987.5],\n",
            "       [-237.5],\n",
            "       [-237.5],\n",
            "       [-237.5],\n",
            "       [-237.5],\n",
            "       [-987.5],\n",
            "       [-237.5],\n",
            "       [-237.5],\n",
            "       [-237.5],\n",
            "       [-987.5],\n",
            "       [-237.5],\n",
            "       [-237.5],\n",
            "       [-987.5],\n",
            "       [-237.5],\n",
            "       [-987.5],\n",
            "       [-237.5],\n",
            "       [-987.5],\n",
            "       [-237.5],\n",
            "       [-987.5],\n",
            "       [-987.5],\n",
            "       [-237.5],\n",
            "       [-987.5],\n",
            "       [-237.5],\n",
            "       [-987.5],\n",
            "       [-987.5],\n",
            "       [-987.5],\n",
            "       [-987.5],\n",
            "       [-987.5],\n",
            "       [-987.5],\n",
            "       [-237.5],\n",
            "       [-237.5],\n",
            "       [-237.5],\n",
            "       [-987.5],\n",
            "       [-987.5],\n",
            "       [-237.5],\n",
            "       [-987.5],\n",
            "       [-987.5],\n",
            "       [-237.5],\n",
            "       [-987.5],\n",
            "       [-237.5],\n",
            "       [-987.5],\n",
            "       [-237.5],\n",
            "       [-987.5],\n",
            "       [-237.5],\n",
            "       [-237.5],\n",
            "       [-987.5],\n",
            "       [-237.5],\n",
            "       [-987.5],\n",
            "       [-237.5],\n",
            "       [-237.5],\n",
            "       [-237.5],\n",
            "       [-237.5],\n",
            "       [-237.5],\n",
            "       [-987.5],\n",
            "       [-987.5],\n",
            "       [-987.5],\n",
            "       [-987.5],\n",
            "       [-987.5],\n",
            "       [-237.5],\n",
            "       [-987.5],\n",
            "       [-237.5],\n",
            "       [-987.5],\n",
            "       [-237.5],\n",
            "       [-987.5],\n",
            "       [-237.5],\n",
            "       [-987.5],\n",
            "       [-237.5],\n",
            "       [-237.5],\n",
            "       [-237.5],\n",
            "       [-987.5],\n",
            "       [-987.5],\n",
            "       [-987.5],\n",
            "       [-987.5],\n",
            "       [-237.5],\n",
            "       [-987.5],\n",
            "       [-987.5],\n",
            "       [-987.5],\n",
            "       [-987.5],\n",
            "       [-237.5],\n",
            "       [-237.5],\n",
            "       [-987.5],\n",
            "       [-237.5],\n",
            "       [-987.5],\n",
            "       [-237.5],\n",
            "       [-237.5],\n",
            "       [-237.5],\n",
            "       [-987.5],\n",
            "       [-237.5],\n",
            "       [-987.5],\n",
            "       [-237.5],\n",
            "       [-237.5],\n",
            "       [-237.5],\n",
            "       [-237.5],\n",
            "       [-237.5],\n",
            "       [-987.5],\n",
            "       [-987.5],\n",
            "       [-987.5],\n",
            "       [-237.5],\n",
            "       [-237.5],\n",
            "       [-987.5],\n",
            "       [-237.5],\n",
            "       [-987.5],\n",
            "       [-237.5],\n",
            "       [-987.5],\n",
            "       [-987.5],\n",
            "       [-987.5],\n",
            "       [-987.5],\n",
            "       [-987.5],\n",
            "       [-987.5],\n",
            "       [-237.5],\n",
            "       [-237.5],\n",
            "       [-237.5],\n",
            "       [-987.5],\n",
            "       [-987.5],\n",
            "       [-237.5],\n",
            "       [-237.5],\n",
            "       [-987.5],\n",
            "       [-237.5],\n",
            "       [-237.5],\n",
            "       [-987.5],\n",
            "       [-237.5],\n",
            "       [-237.5],\n",
            "       [-237.5],\n",
            "       [-987.5],\n",
            "       [-987.5],\n",
            "       [-987.5],\n",
            "       [-987.5],\n",
            "       [-237.5],\n",
            "       [-987.5],\n",
            "       [-237.5],\n",
            "       [-237.5],\n",
            "       [-237.5],\n",
            "       [-237.5],\n",
            "       [-987.5],\n",
            "       [-237.5],\n",
            "       [-237.5],\n",
            "       [-237.5],\n",
            "       [-987.5],\n",
            "       [-987.5],\n",
            "       [-987.5],\n",
            "       [-987.5],\n",
            "       [-987.5],\n",
            "       [-237.5],\n",
            "       [-987.5],\n",
            "       [-987.5],\n",
            "       [-987.5],\n",
            "       [-987.5],\n",
            "       [-987.5],\n",
            "       [-237.5],\n",
            "       [-987.5],\n",
            "       [-237.5],\n",
            "       [-237.5],\n",
            "       [-987.5],\n",
            "       [-987.5],\n",
            "       [-987.5],\n",
            "       [-987.5],\n",
            "       [-987.5],\n",
            "       [-987.5],\n",
            "       [-237.5],\n",
            "       [-987.5],\n",
            "       [-237.5],\n",
            "       [-237.5],\n",
            "       [-987.5],\n",
            "       [-987.5],\n",
            "       [-987.5],\n",
            "       [-987.5],\n",
            "       [-987.5],\n",
            "       [-987.5],\n",
            "       [-987.5],\n",
            "       [-987.5],\n",
            "       [-237.5],\n",
            "       [-987.5],\n",
            "       [-237.5],\n",
            "       [-987.5],\n",
            "       [-237.5],\n",
            "       [-987.5],\n",
            "       [-987.5],\n",
            "       [-237.5],\n",
            "       [-237.5],\n",
            "       [-987.5],\n",
            "       [-987.5],\n",
            "       [-237.5],\n",
            "       [-237.5],\n",
            "       [-987.5],\n",
            "       [-237.5],\n",
            "       [-987.5],\n",
            "       [-987.5],\n",
            "       [-987.5],\n",
            "       [-987.5],\n",
            "       [-987.5],\n",
            "       [-987.5],\n",
            "       [-987.5],\n",
            "       [-987.5],\n",
            "       [-987.5],\n",
            "       [-987.5],\n",
            "       [-987.5],\n",
            "       [-987.5],\n",
            "       [-987.5],\n",
            "       [-237.5],\n",
            "       [-987.5],\n",
            "       [-237.5],\n",
            "       [-237.5],\n",
            "       [-987.5],\n",
            "       [-987.5],\n",
            "       [-987.5],\n",
            "       [-237.5],\n",
            "       [-987.5],\n",
            "       [-987.5],\n",
            "       [-987.5],\n",
            "       [-987.5],\n",
            "       [-987.5],\n",
            "       [-987.5],\n",
            "       [-987.5],\n",
            "       [-987.5],\n",
            "       [-987.5],\n",
            "       [-987.5],\n",
            "       [-237.5],\n",
            "       [-237.5],\n",
            "       [-987.5],\n",
            "       [-237.5],\n",
            "       [-237.5],\n",
            "       [-987.5],\n",
            "       [-237.5],\n",
            "       [-237.5],\n",
            "       [-237.5],\n",
            "       [-987.5],\n",
            "       [-987.5],\n",
            "       [-987.5],\n",
            "       [-987.5],\n",
            "       [-987.5],\n",
            "       [-987.5],\n",
            "       [-987.5],\n",
            "       [-237.5],\n",
            "       [-987.5],\n",
            "       [-987.5],\n",
            "       [-987.5],\n",
            "       [-237.5],\n",
            "       [-987.5],\n",
            "       [-237.5],\n",
            "       [-237.5],\n",
            "       [-237.5],\n",
            "       [-987.5],\n",
            "       [-237.5],\n",
            "       [-237.5],\n",
            "       [-237.5],\n",
            "       [-237.5],\n",
            "       [-237.5],\n",
            "       [-987.5],\n",
            "       [-987.5],\n",
            "       [-987.5],\n",
            "       [-987.5],\n",
            "       [-237.5],\n",
            "       [-987.5],\n",
            "       [-987.5],\n",
            "       [-237.5],\n",
            "       [-987.5],\n",
            "       [-987.5],\n",
            "       [-237.5],\n",
            "       [-237.5],\n",
            "       [-237.5],\n",
            "       [-237.5],\n",
            "       [-987.5],\n",
            "       [-237.5],\n",
            "       [-237.5],\n",
            "       [-237.5],\n",
            "       [-237.5],\n",
            "       [-987.5],\n",
            "       [-987.5],\n",
            "       [-987.5],\n",
            "       [-987.5],\n",
            "       [-237.5],\n",
            "       [-987.5],\n",
            "       [-237.5],\n",
            "       [-987.5],\n",
            "       [-987.5],\n",
            "       [-237.5],\n",
            "       [-237.5],\n",
            "       [-237.5],\n",
            "       [-987.5],\n",
            "       [-987.5],\n",
            "       [-237.5],\n",
            "       [-987.5],\n",
            "       [-237.5],\n",
            "       [-987.5],\n",
            "       [-237.5],\n",
            "       [-987.5],\n",
            "       [-237.5],\n",
            "       [-987.5],\n",
            "       [-987.5],\n",
            "       [-237.5],\n",
            "       [-987.5],\n",
            "       [-237.5],\n",
            "       [-987.5]], dtype=float32)>\n"
          ],
          "name": "stdout"
        }
      ]
    },
    {
      "cell_type": "code",
      "metadata": {
        "id": "IUAtbOcsEnBm",
        "colab_type": "code",
        "colab": {}
      },
      "source": [
        "all_start = time.time()"
      ],
      "execution_count": 0,
      "outputs": []
    },
    {
      "cell_type": "code",
      "metadata": {
        "id": "pT4HvXkAErzK",
        "colab_type": "code",
        "outputId": "680a4881-244c-4ac8-c386-f36df71b6bdf",
        "colab": {
          "base_uri": "https://localhost:8080/",
          "height": 104
        }
      },
      "source": [
        " if __name__ == '__main__':\n",
        "    ftype = np.zeros((n,n)) #Матрица ftype нейронов\n",
        "    all_RNN=[]\n",
        "    for m in executors:\n",
        "        all_RNN.append(create_RNN(m))\n",
        "    iterat = 0\n",
        "     \n",
        "    #while (K.eval(mRNN.prev_energy) >= K.eval(energy(mRNN.worker,mRNN.result,ftype))for mRNN in all_RNN):\n",
        "    while not all(mRNN.stop == True for mRNN in all_RNN) and iterat<10:\n",
        "        print(iterat)\n",
        "        if iterat>0:\n",
        "            for i in range(len(executors)):\n",
        "                ftype = ftype + K.eval(all_RNN[i].result).reshape(n,n)\n",
        "        iterat = iterat + 1\n",
        "        #param = np.Infinity\n",
        "        queues = []\n",
        "        #queue = Queue()\n",
        "        procs = []\n",
        "        for i in range(len(executors)):\n",
        "            if (all_RNN[i].stop == False):\n",
        "                queue = Queue()\n",
        "                queues.append(queue)\n",
        "                p = Process(target=one_iteration, args=(i,queue,))\n",
        "                procs.append(p)     \n",
        "                p.start()\n",
        "             \n",
        "           \n",
        "                #[all_RNN[i].result,all_RNN[i].prev_energy,all_RNN[i].stop] = queue.get()\n",
        "                #all_RNN[i].energies.append(all_RNN[i].prev_energy)\n",
        "            \n",
        "        for proc in procs:\n",
        "            proc.join()\n",
        "        \n",
        "        j=0\n",
        "        for i in range(len(executors)):\n",
        "            if (all_RNN[i].stop == False) :\n",
        "                 \n",
        "                [all_RNN[i].result,all_RNN[i].prev_energy,all_RNN[i].stop,all_RNN[i].prev_in,all_RNN[i].energies] = queues[j].get()\n",
        "                j = j+1\n",
        "            \n",
        "            #ftype = ftype + K.eval(all_RNN[i].result).reshape(n,n)\n",
        "            #print(ftype)\n",
        "            \n",
        "        ftype = np.zeros((n,n))"
      ],
      "execution_count": 21,
      "outputs": [
        {
          "output_type": "stream",
          "text": [
            "0\n",
            "1\n",
            "2\n",
            "3\n",
            "4\n"
          ],
          "name": "stdout"
        }
      ]
    },
    {
      "cell_type": "code",
      "metadata": {
        "id": "wNRcrtqjEylX",
        "colab_type": "code",
        "outputId": "ea87c9b0-4447-431c-f535-18863789f098",
        "colab": {
          "base_uri": "https://localhost:8080/",
          "height": 1000
        }
      },
      "source": [
        "for i in range(len(executors)):\n",
        "    OUT = K.eval(all_RNN[i].threshold(all_RNN[i].result))\n",
        "    OUT.shape = (n,n)\n",
        "    print(\"Результаты для исполнителя \"+str(executors[i])+\":\") \n",
        "    print(OUT)"
      ],
      "execution_count": 22,
      "outputs": [
        {
          "output_type": "stream",
          "text": [
            "Результаты для исполнителя 14:\n",
            "[[0. 0. 1. 0. 0. 1. 1. 0. 0. 0. 0. 0. 0. 0. 0. 0. 0. 0. 0. 0.]\n",
            " [0. 0. 0. 0. 0. 1. 0. 1. 0. 0. 0. 0. 1. 0. 1. 0. 0. 0. 0. 0.]\n",
            " [0. 0. 0. 0. 0. 1. 1. 0. 0. 0. 0. 0. 1. 0. 0. 0. 0. 0. 0. 1.]\n",
            " [1. 0. 1. 0. 0. 0. 0. 0. 0. 0. 0. 0. 1. 0. 0. 0. 1. 1. 0. 1.]\n",
            " [0. 1. 0. 1. 0. 0. 1. 1. 0. 0. 1. 1. 0. 0. 1. 0. 1. 0. 0. 1.]\n",
            " [0. 0. 0. 0. 0. 0. 0. 0. 0. 0. 0. 0. 0. 0. 0. 0. 0. 0. 0. 0.]\n",
            " [0. 0. 0. 0. 0. 0. 0. 0. 0. 0. 0. 0. 0. 0. 0. 0. 0. 0. 0. 0.]\n",
            " [0. 0. 0. 0. 0. 0. 0. 0. 0. 0. 0. 0. 0. 0. 0. 0. 0. 0. 0. 0.]\n",
            " [0. 0. 0. 0. 0. 1. 0. 1. 0. 0. 0. 0. 0. 0. 1. 1. 0. 0. 0. 0.]\n",
            " [0. 0. 0. 0. 0. 1. 1. 0. 1. 0. 0. 0. 1. 0. 1. 0. 1. 0. 0. 1.]\n",
            " [1. 0. 0. 0. 0. 1. 0. 1. 0. 1. 0. 0. 0. 0. 0. 0. 1. 1. 0. 0.]\n",
            " [0. 1. 1. 0. 0. 1. 0. 1. 1. 1. 0. 0. 0. 0. 1. 0. 1. 1. 0. 1.]\n",
            " [0. 0. 0. 0. 0. 0. 0. 0. 0. 0. 0. 0. 0. 0. 0. 1. 0. 0. 0. 0.]\n",
            " [0. 0. 0. 0. 0. 1. 0. 1. 1. 0. 0. 0. 0. 0. 0. 0. 0. 1. 0. 1.]\n",
            " [0. 0. 0. 0. 0. 1. 0. 0. 0. 0. 0. 0. 0. 0. 0. 0. 0. 0. 0. 0.]\n",
            " [0. 0. 0. 0. 0. 0. 0. 1. 0. 0. 0. 0. 0. 0. 0. 0. 0. 0. 0. 0.]\n",
            " [1. 0. 0. 0. 0. 0. 1. 1. 0. 0. 0. 0. 0. 0. 0. 0. 0. 0. 0. 1.]\n",
            " [0. 0. 0. 0. 0. 1. 1. 1. 0. 1. 0. 0. 1. 0. 0. 0. 0. 0. 0. 0.]\n",
            " [0. 1. 0. 0. 1. 1. 1. 1. 0. 1. 1. 1. 1. 0. 0. 0. 0. 1. 0. 1.]\n",
            " [0. 0. 0. 0. 0. 0. 0. 1. 0. 0. 0. 0. 0. 0. 0. 0. 0. 0. 0. 0.]]\n",
            "Результаты для исполнителя 13:\n",
            "[[0. 0. 1. 0. 0. 0. 1. 0. 0. 0. 0. 0. 0. 0. 0. 0. 0. 0. 0. 0.]\n",
            " [0. 0. 0. 0. 0. 0. 0. 1. 0. 0. 0. 0. 0. 0. 0. 0. 0. 0. 0. 0.]\n",
            " [0. 0. 0. 0. 0. 0. 0. 0. 0. 0. 0. 0. 0. 0. 0. 0. 0. 0. 0. 0.]\n",
            " [1. 0. 1. 0. 1. 0. 0. 0. 0. 0. 0. 0. 1. 0. 0. 0. 1. 1. 0. 0.]\n",
            " [0. 1. 0. 0. 0. 0. 1. 1. 0. 0. 0. 1. 0. 0. 1. 0. 0. 0. 1. 0.]\n",
            " [1. 1. 1. 0. 0. 0. 0. 0. 1. 0. 0. 0. 0. 0. 0. 0. 0. 0. 0. 0.]\n",
            " [0. 0. 1. 0. 0. 0. 0. 1. 0. 0. 0. 0. 0. 0. 0. 0. 0. 0. 0. 0.]\n",
            " [0. 0. 0. 0. 0. 0. 0. 0. 0. 0. 0. 0. 0. 0. 0. 0. 0. 0. 0. 0.]\n",
            " [0. 0. 0. 0. 0. 0. 0. 1. 0. 0. 0. 0. 0. 0. 0. 0. 0. 0. 0. 0.]\n",
            " [1. 0. 0. 0. 0. 1. 1. 0. 1. 0. 1. 1. 1. 0. 1. 0. 1. 1. 1. 0.]\n",
            " [1. 0. 0. 0. 1. 1. 0. 1. 0. 0. 0. 0. 0. 0. 0. 0. 1. 1. 1. 0.]\n",
            " [0. 1. 1. 0. 0. 1. 0. 1. 1. 0. 0. 0. 0. 0. 1. 0. 0. 0. 1. 0.]\n",
            " [0. 1. 1. 0. 0. 0. 0. 0. 0. 0. 0. 0. 0. 0. 0. 0. 0. 0. 1. 0.]\n",
            " [0. 0. 0. 0. 0. 1. 0. 1. 1. 0. 0. 0. 0. 0. 0. 0. 0. 0. 0. 0.]\n",
            " [0. 1. 0. 0. 0. 1. 0. 0. 1. 0. 0. 0. 0. 0. 0. 0. 0. 0. 0. 0.]\n",
            " [0. 0. 0. 0. 0. 1. 0. 1. 1. 0. 0. 0. 1. 0. 0. 0. 0. 0. 0. 0.]\n",
            " [1. 0. 0. 0. 1. 0. 1. 1. 0. 0. 0. 1. 0. 0. 0. 0. 0. 0. 0. 0.]\n",
            " [0. 0. 0. 0. 0. 1. 1. 1. 0. 0. 0. 0. 0. 0. 0. 0. 0. 0. 1. 0.]\n",
            " [0. 1. 0. 0. 0. 0. 1. 1. 0. 0. 0. 0. 0. 0. 0. 0. 0. 0. 0. 0.]\n",
            " [0. 0. 1. 1. 1. 0. 0. 1. 0. 1. 0. 1. 0. 1. 0. 0. 1. 0. 1. 0.]]\n",
            "Результаты для исполнителя 15:\n",
            "[[0. 0. 1. 1. 0. 1. 1. 0. 0. 1. 1. 0. 0. 0. 0. 0. 0. 0. 0. 0.]\n",
            " [0. 0. 0. 0. 0. 1. 0. 0. 0. 0. 0. 0. 0. 0. 0. 0. 0. 0. 0. 0.]\n",
            " [0. 0. 0. 1. 0. 0. 0. 0. 0. 0. 0. 0. 0. 0. 0. 0. 0. 0. 0. 0.]\n",
            " [0. 0. 0. 0. 0. 0. 0. 0. 0. 0. 0. 0. 0. 0. 0. 0. 0. 0. 0. 0.]\n",
            " [0. 1. 0. 1. 0. 0. 1. 0. 0. 0. 1. 0. 0. 0. 0. 0. 1. 0. 1. 1.]\n",
            " [0. 0. 0. 0. 0. 0. 0. 0. 0. 0. 0. 0. 0. 0. 0. 1. 0. 0. 0. 0.]\n",
            " [0. 0. 1. 0. 0. 0. 0. 0. 0. 0. 0. 0. 0. 0. 0. 0. 1. 0. 0. 0.]\n",
            " [0. 1. 0. 0. 1. 0. 1. 0. 1. 0. 1. 1. 0. 0. 0. 1. 1. 1. 1. 1.]\n",
            " [0. 0. 0. 0. 0. 1. 0. 0. 0. 0. 0. 0. 0. 0. 0. 1. 0. 0. 0. 0.]\n",
            " [0. 0. 0. 0. 0. 1. 1. 0. 1. 0. 1. 0. 1. 0. 0. 0. 1. 1. 1. 1.]\n",
            " [0. 0. 0. 0. 0. 1. 0. 0. 0. 0. 0. 0. 0. 0. 0. 0. 1. 0. 0. 0.]\n",
            " [0. 1. 1. 0. 1. 1. 0. 0. 1. 1. 0. 0. 0. 0. 0. 0. 1. 1. 1. 1.]\n",
            " [0. 1. 1. 1. 0. 0. 0. 0. 0. 0. 0. 0. 0. 0. 0. 1. 0. 0. 1. 0.]\n",
            " [0. 0. 0. 0. 0. 1. 0. 1. 1. 0. 0. 0. 0. 0. 0. 0. 0. 1. 0. 1.]\n",
            " [0. 1. 0. 0. 1. 1. 0. 0. 1. 1. 0. 1. 0. 0. 0. 0. 0. 0. 0. 0.]\n",
            " [0. 0. 0. 0. 0. 0. 0. 0. 0. 0. 0. 0. 0. 0. 0. 0. 0. 0. 0. 0.]\n",
            " [1. 0. 0. 1. 0. 0. 0. 0. 0. 0. 0. 0. 0. 0. 0. 0. 0. 0. 0. 0.]\n",
            " [0. 0. 0. 1. 0. 1. 1. 0. 0. 0. 1. 0. 1. 0. 0. 0. 0. 0. 1. 0.]\n",
            " [0. 1. 0. 0. 0. 1. 1. 0. 0. 0. 1. 0. 0. 0. 0. 0. 0. 0. 0. 1.]\n",
            " [0. 0. 1. 1. 0. 0. 0. 0. 0. 0. 0. 0. 0. 0. 0. 0. 1. 0. 0. 0.]]\n",
            "Результаты для исполнителя 5:\n",
            "[[0. 0. 1. 1. 0. 1. 0. 0. 0. 0. 1. 0. 0. 0. 0. 0. 0. 0. 0. 0.]\n",
            " [0. 0. 0. 0. 1. 1. 0. 0. 0. 0. 0. 1. 0. 0. 1. 0. 0. 0. 1. 0.]\n",
            " [0. 0. 0. 0. 0. 1. 0. 0. 0. 0. 0. 1. 0. 0. 0. 0. 0. 0. 0. 0.]\n",
            " [0. 0. 1. 0. 1. 0. 0. 0. 0. 0. 0. 0. 0. 0. 0. 0. 0. 1. 0. 1.]\n",
            " [0. 0. 0. 0. 0. 0. 0. 0. 0. 0. 0. 0. 0. 0. 0. 0. 0. 0. 0. 0.]\n",
            " [0. 0. 0. 0. 0. 0. 0. 0. 0. 0. 1. 0. 0. 1. 0. 1. 0. 1. 1. 0.]\n",
            " [1. 0. 1. 0. 1. 0. 0. 1. 0. 1. 0. 0. 0. 0. 0. 0. 1. 1. 1. 0.]\n",
            " [0. 1. 0. 0. 1. 0. 0. 0. 0. 0. 1. 1. 0. 1. 0. 1. 1. 1. 1. 1.]\n",
            " [0. 0. 0. 0. 0. 1. 0. 1. 0. 1. 0. 1. 0. 1. 1. 1. 0. 0. 0. 0.]\n",
            " [1. 0. 0. 0. 0. 1. 0. 0. 0. 0. 1. 1. 1. 0. 1. 0. 1. 1. 1. 1.]\n",
            " [0. 0. 0. 0. 0. 0. 0. 0. 0. 0. 0. 0. 0. 0. 0. 0. 0. 1. 0. 0.]\n",
            " [0. 0. 0. 0. 1. 1. 0. 0. 0. 0. 0. 0. 0. 0. 1. 0. 0. 1. 1. 0.]\n",
            " [0. 1. 1. 1. 0. 0. 0. 0. 0. 0. 0. 0. 0. 0. 0. 1. 0. 1. 1. 0.]\n",
            " [0. 0. 0. 0. 0. 0. 0. 0. 0. 0. 0. 0. 0. 0. 0. 0. 0. 0. 0. 0.]\n",
            " [0. 0. 0. 0. 1. 1. 0. 0. 0. 0. 0. 0. 0. 0. 0. 0. 0. 0. 0. 0.]\n",
            " [0. 0. 0. 0. 0. 0. 0. 0. 0. 0. 0. 0. 0. 0. 0. 0. 0. 0. 0. 0.]\n",
            " [1. 0. 0. 1. 1. 0. 0. 0. 0. 0. 1. 1. 0. 0. 0. 0. 0. 0. 0. 1.]\n",
            " [0. 0. 0. 0. 0. 0. 0. 0. 0. 0. 0. 0. 0. 1. 0. 0. 0. 0. 0. 0.]\n",
            " [0. 0. 0. 0. 1. 0. 0. 0. 0. 0. 1. 0. 0. 0. 0. 0. 0. 1. 0. 0.]\n",
            " [0. 0. 0. 0. 1. 0. 0. 0. 0. 0. 0. 1. 0. 1. 0. 0. 0. 0. 1. 0.]]\n",
            "Результаты для исполнителя 8:\n",
            "[[0. 0. 0. 0. 0. 0. 0. 0. 0. 1. 0. 0. 0. 0. 0. 0. 0. 0. 0. 0.]\n",
            " [0. 0. 0. 0. 1. 1. 0. 0. 0. 0. 0. 1. 1. 0. 1. 0. 0. 0. 1. 0.]\n",
            " [1. 0. 0. 0. 0. 0. 0. 0. 0. 0. 0. 1. 0. 0. 0. 0. 0. 0. 0. 0.]\n",
            " [1. 0. 1. 0. 1. 0. 0. 0. 0. 0. 0. 0. 1. 0. 0. 0. 0. 0. 0. 1.]\n",
            " [0. 0. 0. 0. 0. 0. 0. 0. 0. 0. 0. 0. 0. 0. 0. 0. 0. 0. 0. 0.]\n",
            " [1. 0. 1. 0. 0. 0. 0. 0. 1. 1. 0. 1. 0. 0. 1. 1. 0. 0. 1. 0.]\n",
            " [1. 0. 1. 0. 1. 0. 0. 0. 0. 1. 0. 0. 0. 0. 0. 0. 0. 0. 0. 0.]\n",
            " [0. 1. 0. 0. 1. 0. 1. 0. 1. 0. 0. 1. 0. 0. 0. 1. 1. 1. 1. 1.]\n",
            " [0. 0. 0. 0. 0. 0. 0. 0. 0. 1. 0. 1. 0. 0. 1. 0. 0. 0. 0. 0.]\n",
            " [0. 0. 0. 0. 0. 0. 0. 0. 0. 0. 0. 0. 0. 0. 0. 0. 0. 0. 0. 0.]\n",
            " [1. 0. 0. 0. 1. 1. 0. 1. 0. 1. 0. 0. 0. 0. 0. 0. 1. 1. 1. 0.]\n",
            " [0. 0. 0. 0. 1. 0. 0. 0. 0. 1. 0. 0. 0. 0. 0. 0. 0. 0. 0. 0.]\n",
            " [0. 0. 1. 0. 0. 0. 0. 0. 0. 1. 0. 0. 0. 0. 0. 1. 0. 0. 0. 0.]\n",
            " [0. 0. 0. 0. 0. 1. 0. 1. 1. 0. 0. 0. 0. 0. 0. 0. 0. 1. 0. 1.]\n",
            " [0. 0. 0. 0. 1. 0. 0. 0. 0. 1. 0. 1. 0. 0. 0. 0. 0. 0. 0. 0.]\n",
            " [0. 0. 0. 0. 0. 0. 0. 0. 1. 0. 0. 0. 0. 0. 0. 0. 0. 0. 0. 0.]\n",
            " [1. 0. 0. 1. 1. 0. 1. 0. 0. 1. 0. 1. 0. 0. 0. 0. 0. 0. 0. 1.]\n",
            " [0. 0. 0. 1. 0. 1. 1. 0. 0. 1. 0. 1. 1. 0. 0. 0. 0. 0. 1. 0.]\n",
            " [0. 0. 0. 0. 1. 0. 1. 0. 0. 1. 0. 1. 1. 0. 0. 0. 0. 0. 0. 0.]\n",
            " [0. 0. 1. 0. 1. 0. 0. 0. 0. 1. 0. 1. 0. 0. 0. 0. 0. 0. 1. 0.]]\n",
            "Результаты для исполнителя 18:\n",
            "[[0. 0. 1. 1. 0. 1. 1. 0. 0. 1. 0. 0. 0. 0. 0. 0. 0. 0. 0. 0.]\n",
            " [0. 0. 0. 0. 0. 0. 0. 0. 0. 0. 0. 0. 0. 0. 0. 0. 0. 0. 0. 0.]\n",
            " [0. 0. 0. 1. 0. 0. 0. 0. 0. 0. 0. 0. 0. 0. 0. 0. 0. 0. 0. 0.]\n",
            " [0. 0. 0. 0. 0. 0. 0. 0. 0. 0. 0. 0. 0. 0. 0. 0. 0. 1. 0. 0.]\n",
            " [0. 1. 0. 1. 0. 0. 0. 0. 0. 0. 0. 0. 0. 0. 1. 0. 0. 0. 0. 0.]\n",
            " [0. 1. 1. 0. 0. 0. 0. 0. 1. 1. 0. 1. 0. 1. 1. 0. 0. 1. 0. 0.]\n",
            " [0. 0. 1. 0. 1. 0. 0. 1. 0. 1. 0. 0. 0. 0. 0. 0. 1. 1. 0. 0.]\n",
            " [0. 1. 0. 0. 1. 0. 0. 0. 0. 0. 0. 0. 0. 0. 0. 0. 0. 1. 0. 0.]\n",
            " [0. 0. 0. 0. 0. 0. 0. 0. 0. 0. 0. 0. 0. 0. 1. 0. 0. 0. 0. 0.]\n",
            " [0. 0. 0. 0. 0. 0. 0. 0. 1. 0. 0. 0. 0. 0. 1. 0. 0. 1. 0. 0.]\n",
            " [1. 0. 0. 0. 1. 1. 0. 1. 0. 1. 0. 0. 0. 0. 0. 0. 1. 1. 1. 0.]\n",
            " [0. 1. 1. 0. 1. 0. 0. 1. 1. 1. 0. 0. 0. 0. 1. 0. 1. 1. 0. 1.]\n",
            " [0. 1. 1. 1. 0. 0. 0. 0. 0. 1. 0. 0. 0. 0. 0. 0. 0. 1. 0. 0.]\n",
            " [0. 0. 0. 0. 0. 0. 0. 1. 1. 0. 0. 0. 0. 0. 0. 0. 0. 1. 0. 1.]\n",
            " [0. 0. 0. 0. 0. 0. 0. 0. 0. 0. 0. 0. 0. 0. 0. 0. 0. 0. 0. 0.]\n",
            " [0. 0. 0. 0. 0. 1. 0. 1. 1. 0. 0. 0. 1. 0. 0. 0. 0. 0. 0. 0.]\n",
            " [1. 0. 0. 1. 1. 0. 0. 0. 0. 1. 0. 0. 0. 0. 0. 0. 0. 0. 0. 0.]\n",
            " [0. 0. 0. 0. 0. 0. 0. 0. 0. 0. 0. 0. 0. 0. 0. 0. 0. 0. 0. 0.]\n",
            " [0. 1. 0. 0. 1. 1. 1. 1. 0. 1. 0. 1. 1. 0. 0. 0. 0. 1. 0. 1.]\n",
            " [0. 0. 1. 1. 1. 0. 0. 1. 0. 1. 0. 0. 0. 0. 0. 0. 1. 0. 0. 0.]]\n",
            "Результаты для исполнителя 4:\n",
            "[[0. 0. 0. 1. 0. 0. 0. 0. 0. 0. 1. 0. 0. 0. 0. 0. 0. 0. 0. 0.]\n",
            " [0. 0. 0. 0. 0. 0. 0. 0. 0. 0. 0. 0. 0. 0. 1. 0. 0. 0. 1. 0.]\n",
            " [1. 0. 0. 1. 0. 1. 1. 0. 0. 0. 0. 1. 1. 0. 0. 0. 0. 0. 0. 1.]\n",
            " [0. 0. 0. 0. 0. 0. 0. 0. 0. 0. 0. 0. 0. 0. 0. 0. 0. 0. 0. 0.]\n",
            " [0. 1. 0. 1. 0. 0. 0. 1. 0. 0. 1. 0. 0. 0. 1. 0. 1. 0. 1. 1.]\n",
            " [1. 1. 0. 0. 0. 0. 0. 0. 0. 0. 1. 0. 0. 0. 1. 1. 0. 1. 1. 0.]\n",
            " [1. 0. 0. 0. 1. 0. 0. 1. 0. 0. 0. 0. 0. 0. 0. 0. 1. 1. 1. 0.]\n",
            " [0. 1. 0. 0. 0. 0. 0. 0. 0. 0. 1. 0. 0. 0. 0. 1. 1. 1. 1. 1.]\n",
            " [0. 0. 0. 0. 0. 1. 0. 1. 0. 1. 0. 1. 0. 1. 1. 1. 0. 0. 0. 0.]\n",
            " [1. 0. 0. 0. 0. 1. 1. 0. 0. 0. 1. 1. 1. 0. 1. 0. 1. 1. 1. 1.]\n",
            " [0. 0. 0. 0. 0. 0. 0. 0. 0. 0. 0. 0. 0. 0. 0. 0. 0. 0. 0. 0.]\n",
            " [0. 1. 0. 0. 1. 1. 0. 1. 0. 0. 0. 0. 0. 0. 1. 0. 1. 1. 1. 1.]\n",
            " [0. 1. 0. 1. 0. 0. 0. 0. 0. 0. 0. 0. 0. 0. 0. 1. 0. 1. 1. 0.]\n",
            " [0. 0. 0. 0. 0. 1. 0. 1. 0. 0. 0. 0. 0. 0. 0. 0. 0. 1. 0. 1.]\n",
            " [0. 0. 0. 0. 0. 0. 0. 0. 0. 0. 0. 0. 0. 0. 0. 0. 0. 0. 0. 0.]\n",
            " [0. 0. 0. 0. 0. 0. 0. 0. 0. 0. 0. 0. 0. 0. 0. 0. 0. 0. 0. 0.]\n",
            " [1. 0. 0. 1. 0. 0. 0. 0. 0. 0. 1. 0. 0. 0. 0. 0. 0. 0. 0. 1.]\n",
            " [0. 0. 0. 1. 0. 0. 0. 0. 0. 0. 1. 0. 0. 0. 0. 0. 0. 0. 0. 0.]\n",
            " [0. 0. 0. 0. 0. 0. 0. 0. 0. 0. 1. 0. 0. 0. 0. 0. 0. 0. 0. 0.]\n",
            " [0. 0. 0. 1. 0. 0. 0. 0. 0. 0. 0. 0. 0. 0. 0. 0. 0. 0. 1. 0.]]\n",
            "Результаты для исполнителя 1:\n",
            "[[0. 0. 0. 1. 0. 0. 1. 0. 0. 1. 0. 0. 0. 0. 0. 0. 0. 0. 0. 0.]\n",
            " [0. 0. 0. 0. 0. 0. 0. 0. 0. 0. 0. 1. 1. 0. 0. 0. 0. 0. 0. 0.]\n",
            " [1. 0. 0. 1. 0. 0. 1. 0. 0. 0. 0. 1. 1. 0. 0. 0. 0. 0. 0. 1.]\n",
            " [0. 0. 0. 0. 0. 0. 0. 0. 0. 0. 0. 0. 1. 0. 0. 0. 0. 0. 0. 0.]\n",
            " [0. 1. 0. 1. 0. 0. 1. 0. 0. 0. 0. 1. 0. 0. 0. 0. 0. 0. 1. 0.]\n",
            " [1. 1. 1. 0. 0. 0. 0. 0. 1. 1. 1. 1. 0. 1. 1. 1. 0. 1. 1. 0.]\n",
            " [0. 0. 0. 0. 0. 0. 0. 0. 0. 1. 0. 0. 0. 0. 0. 0. 0. 0. 0. 0.]\n",
            " [0. 1. 0. 0. 1. 0. 1. 0. 1. 0. 1. 1. 0. 1. 0. 1. 1. 1. 1. 1.]\n",
            " [0. 0. 0. 0. 0. 0. 0. 0. 0. 0. 0. 0. 0. 0. 0. 0. 0. 0. 0. 0.]\n",
            " [0. 0. 0. 0. 0. 0. 0. 0. 1. 0. 0. 0. 1. 0. 0. 0. 0. 0. 0. 0.]\n",
            " [1. 0. 0. 0. 1. 0. 0. 0. 0. 1. 0. 0. 0. 0. 0. 0. 0. 1. 1. 0.]\n",
            " [0. 0. 0. 0. 0. 0. 0. 0. 1. 0. 0. 0. 0. 0. 0. 0. 0. 0. 0. 0.]\n",
            " [0. 0. 0. 0. 0. 0. 0. 0. 0. 0. 0. 0. 0. 0. 0. 0. 0. 0. 0. 0.]\n",
            " [0. 0. 0. 0. 0. 0. 0. 0. 1. 0. 0. 0. 0. 0. 0. 0. 0. 1. 0. 1.]\n",
            " [0. 1. 0. 0. 1. 0. 0. 0. 1. 1. 0. 1. 0. 0. 0. 0. 0. 0. 0. 0.]\n",
            " [0. 0. 0. 0. 0. 0. 0. 0. 1. 0. 0. 0. 1. 0. 0. 0. 0. 0. 0. 0.]\n",
            " [1. 0. 0. 1. 1. 0. 1. 0. 0. 1. 1. 1. 0. 0. 0. 0. 0. 0. 0. 1.]\n",
            " [0. 0. 0. 1. 0. 0. 1. 0. 0. 1. 0. 1. 1. 0. 0. 0. 0. 0. 1. 0.]\n",
            " [0. 1. 0. 0. 0. 0. 1. 0. 0. 1. 0. 1. 1. 0. 0. 0. 0. 0. 0. 0.]\n",
            " [0. 0. 0. 1. 1. 0. 0. 0. 0. 1. 0. 1. 0. 0. 0. 0. 0. 0. 1. 0.]]\n",
            "Результаты для исполнителя 3:\n",
            "[[0. 0. 1. 1. 0. 1. 0. 0. 0. 1. 1. 0. 0. 0. 0. 0. 0. 0. 0. 0.]\n",
            " [0. 0. 0. 0. 1. 1. 0. 1. 0. 0. 0. 0. 1. 0. 1. 0. 0. 0. 1. 0.]\n",
            " [0. 0. 0. 0. 0. 0. 0. 0. 0. 0. 0. 0. 0. 0. 0. 0. 0. 0. 0. 1.]\n",
            " [0. 0. 1. 0. 1. 0. 0. 0. 0. 0. 0. 0. 1. 0. 0. 0. 0. 1. 0. 1.]\n",
            " [0. 0. 0. 0. 0. 0. 0. 0. 0. 0. 0. 0. 0. 0. 0. 0. 0. 0. 0. 1.]\n",
            " [0. 0. 1. 0. 0. 0. 0. 0. 0. 0. 0. 0. 0. 1. 0. 0. 0. 1. 0. 0.]\n",
            " [1. 0. 1. 0. 1. 0. 0. 1. 0. 1. 0. 0. 0. 0. 0. 0. 1. 1. 1. 0.]\n",
            " [0. 0. 0. 0. 1. 0. 0. 0. 1. 0. 1. 0. 0. 1. 0. 1. 0. 1. 1. 1.]\n",
            " [0. 0. 0. 0. 0. 1. 0. 0. 0. 0. 0. 0. 0. 1. 0. 1. 0. 0. 0. 0.]\n",
            " [0. 0. 0. 0. 0. 1. 0. 0. 1. 0. 1. 0. 1. 0. 0. 0. 0. 1. 0. 1.]\n",
            " [0. 0. 0. 0. 1. 1. 0. 0. 0. 0. 0. 0. 0. 0. 0. 0. 0. 1. 0. 0.]\n",
            " [0. 1. 1. 0. 1. 1. 0. 1. 1. 1. 0. 0. 0. 0. 1. 0. 0. 1. 1. 1.]\n",
            " [0. 0. 1. 0. 0. 0. 0. 0. 0. 0. 0. 0. 0. 0. 0. 0. 0. 1. 0. 0.]\n",
            " [0. 0. 0. 0. 0. 0. 0. 0. 0. 0. 0. 0. 0. 0. 0. 0. 0. 0. 0. 0.]\n",
            " [0. 0. 0. 0. 1. 1. 0. 0. 1. 1. 0. 0. 0. 0. 0. 0. 0. 0. 0. 0.]\n",
            " [0. 0. 0. 0. 0. 1. 0. 0. 0. 0. 0. 0. 1. 0. 0. 0. 0. 0. 0. 0.]\n",
            " [1. 0. 0. 1. 1. 0. 0. 1. 0. 1. 1. 1. 0. 0. 0. 0. 0. 0. 0. 1.]\n",
            " [0. 0. 0. 0. 0. 0. 0. 0. 0. 0. 0. 0. 0. 1. 0. 0. 0. 0. 0. 0.]\n",
            " [0. 0. 0. 0. 1. 1. 0. 0. 0. 1. 1. 0. 1. 0. 0. 0. 0. 1. 0. 1.]\n",
            " [0. 0. 0. 0. 0. 0. 0. 0. 0. 0. 0. 0. 0. 1. 0. 0. 0. 0. 0. 0.]]\n",
            "Результаты для исполнителя 6:\n",
            "[[0. 0. 0. 1. 0. 1. 0. 0. 0. 0. 0. 0. 0. 0. 0. 0. 0. 0. 0. 0.]\n",
            " [0. 0. 0. 0. 0. 1. 0. 0. 0. 0. 0. 0. 0. 0. 0. 0. 0. 0. 1. 0.]\n",
            " [1. 0. 0. 1. 0. 1. 1. 0. 0. 0. 0. 1. 1. 0. 0. 0. 0. 0. 0. 1.]\n",
            " [0. 0. 0. 0. 0. 0. 0. 0. 0. 0. 0. 0. 0. 0. 0. 0. 0. 0. 0. 0.]\n",
            " [0. 1. 0. 1. 0. 0. 1. 0. 0. 0. 0. 1. 0. 0. 0. 0. 0. 0. 1. 1.]\n",
            " [0. 0. 0. 0. 0. 0. 0. 0. 0. 0. 0. 0. 0. 0. 0. 0. 0. 0. 0. 0.]\n",
            " [1. 0. 0. 0. 0. 0. 0. 0. 0. 0. 0. 0. 0. 0. 0. 0. 0. 0. 1. 0.]\n",
            " [0. 1. 0. 0. 1. 0. 1. 0. 0. 0. 0. 1. 0. 0. 0. 0. 0. 0. 1. 1.]\n",
            " [0. 0. 0. 0. 0. 1. 0. 0. 0. 0. 0. 1. 0. 1. 0. 0. 0. 0. 0. 0.]\n",
            " [1. 0. 0. 0. 0. 1. 1. 0. 1. 0. 1. 1. 1. 0. 0. 0. 0. 0. 1. 1.]\n",
            " [1. 0. 0. 0. 1. 1. 0. 0. 0. 0. 0. 0. 0. 0. 0. 0. 0. 0. 1. 0.]\n",
            " [0. 1. 0. 0. 0. 1. 0. 0. 0. 0. 0. 0. 0. 0. 0. 0. 0. 0. 1. 0.]\n",
            " [0. 1. 0. 1. 0. 0. 0. 0. 0. 0. 0. 0. 0. 0. 0. 0. 0. 0. 1. 0.]\n",
            " [0. 0. 0. 0. 0. 1. 0. 0. 0. 0. 0. 0. 0. 0. 0. 0. 0. 0. 0. 1.]\n",
            " [0. 1. 0. 0. 1. 1. 0. 0. 1. 1. 0. 1. 0. 0. 0. 0. 0. 0. 0. 0.]\n",
            " [0. 0. 0. 0. 0. 1. 0. 1. 0. 0. 0. 0. 1. 0. 0. 0. 0. 0. 0. 0.]\n",
            " [1. 0. 0. 1. 1. 0. 1. 1. 0. 1. 1. 1. 0. 0. 0. 0. 0. 0. 0. 1.]\n",
            " [0. 0. 0. 1. 0. 1. 1. 1. 0. 1. 1. 1. 1. 1. 0. 0. 0. 0. 1. 0.]\n",
            " [0. 0. 0. 0. 0. 1. 0. 0. 0. 0. 0. 0. 0. 0. 0. 0. 0. 0. 0. 0.]\n",
            " [0. 0. 0. 1. 0. 0. 0. 0. 0. 0. 0. 1. 0. 0. 0. 0. 0. 0. 1. 0.]]\n",
            "Результаты для исполнителя 2:\n",
            "[[0. 0. 0. 0. 0. 1. 0. 0. 0. 0. 0. 0. 0. 0. 0. 0. 0. 0. 0. 0.]\n",
            " [0. 0. 0. 0. 1. 1. 0. 1. 0. 0. 0. 0. 0. 0. 1. 0. 0. 0. 1. 0.]\n",
            " [1. 0. 0. 1. 0. 1. 1. 0. 0. 0. 0. 1. 1. 0. 0. 0. 0. 0. 0. 1.]\n",
            " [1. 0. 0. 0. 1. 0. 0. 0. 0. 0. 0. 0. 0. 0. 0. 0. 1. 0. 0. 0.]\n",
            " [0. 0. 0. 0. 0. 0. 0. 0. 0. 0. 0. 0. 0. 0. 0. 0. 1. 0. 0. 0.]\n",
            " [0. 0. 0. 0. 0. 0. 0. 0. 0. 0. 0. 0. 0. 0. 0. 0. 0. 0. 0. 0.]\n",
            " [1. 0. 0. 0. 1. 0. 0. 1. 0. 0. 0. 0. 0. 0. 0. 0. 1. 1. 1. 0.]\n",
            " [0. 0. 0. 0. 1. 0. 0. 0. 1. 0. 0. 0. 0. 0. 0. 0. 1. 1. 1. 0.]\n",
            " [0. 0. 0. 0. 0. 1. 0. 0. 0. 0. 0. 0. 0. 0. 0. 0. 0. 0. 0. 0.]\n",
            " [1. 0. 0. 0. 0. 1. 0. 0. 1. 0. 0. 1. 0. 0. 1. 0. 1. 1. 1. 1.]\n",
            " [1. 0. 0. 0. 1. 1. 0. 1. 0. 1. 0. 0. 0. 0. 0. 0. 1. 1. 1. 0.]\n",
            " [0. 1. 0. 0. 1. 1. 0. 1. 1. 0. 0. 0. 0. 0. 1. 0. 1. 1. 1. 1.]\n",
            " [0. 1. 0. 1. 0. 0. 0. 0. 0. 0. 0. 0. 0. 0. 0. 1. 0. 1. 1. 0.]\n",
            " [0. 0. 0. 0. 0. 1. 0. 1. 1. 0. 0. 0. 0. 0. 0. 0. 0. 1. 0. 1.]\n",
            " [0. 0. 0. 0. 1. 1. 0. 0. 1. 0. 0. 0. 0. 0. 0. 0. 0. 0. 0. 0.]\n",
            " [0. 0. 0. 0. 0. 1. 0. 1. 1. 0. 0. 0. 0. 0. 0. 0. 0. 0. 0. 0.]\n",
            " [1. 0. 0. 0. 0. 0. 0. 0. 0. 0. 0. 0. 0. 0. 0. 0. 0. 0. 0. 0.]\n",
            " [0. 0. 0. 1. 0. 1. 0. 0. 0. 0. 0. 0. 0. 0. 0. 0. 0. 0. 1. 0.]\n",
            " [0. 0. 0. 0. 1. 1. 0. 0. 0. 0. 0. 0. 0. 0. 0. 0. 0. 0. 0. 0.]\n",
            " [0. 0. 0. 1. 1. 0. 0. 1. 0. 0. 0. 0. 0. 0. 0. 0. 1. 0. 1. 0.]]\n",
            "Результаты для исполнителя 17:\n",
            "[[0. 0. 0. 1. 0. 0. 1. 0. 0. 1. 1. 0. 0. 0. 0. 0. 0. 0. 0. 0.]\n",
            " [0. 0. 0. 0. 1. 0. 0. 0. 0. 0. 0. 1. 0. 0. 1. 0. 0. 0. 1. 0.]\n",
            " [0. 0. 0. 1. 0. 0. 1. 0. 0. 0. 0. 1. 0. 0. 0. 0. 0. 0. 0. 0.]\n",
            " [0. 0. 0. 0. 0. 0. 0. 0. 0. 0. 0. 0. 0. 0. 0. 0. 0. 0. 0. 0.]\n",
            " [0. 0. 0. 1. 0. 0. 1. 0. 0. 0. 1. 1. 0. 0. 1. 0. 0. 0. 1. 0.]\n",
            " [1. 0. 0. 0. 0. 0. 0. 0. 1. 1. 1. 1. 0. 0. 1. 0. 0. 0. 1. 0.]\n",
            " [0. 0. 0. 0. 0. 0. 0. 0. 0. 0. 0. 0. 0. 0. 0. 0. 0. 0. 0. 0.]\n",
            " [0. 1. 0. 0. 1. 0. 1. 0. 1. 0. 1. 1. 0. 1. 0. 1. 1. 1. 1. 1.]\n",
            " [0. 0. 0. 0. 0. 0. 0. 0. 0. 0. 0. 0. 0. 0. 0. 0. 0. 0. 0. 0.]\n",
            " [0. 0. 0. 0. 0. 0. 1. 0. 1. 0. 1. 0. 0. 0. 0. 0. 0. 0. 0. 0.]\n",
            " [0. 0. 0. 0. 0. 0. 0. 0. 0. 0. 0. 0. 0. 0. 0. 0. 0. 0. 0. 0.]\n",
            " [0. 0. 0. 0. 0. 0. 0. 0. 1. 1. 0. 0. 0. 0. 1. 0. 0. 0. 0. 0.]\n",
            " [0. 1. 1. 1. 0. 0. 0. 0. 0. 1. 0. 0. 0. 0. 0. 0. 0. 1. 1. 0.]\n",
            " [0. 0. 0. 0. 0. 1. 0. 0. 1. 0. 0. 0. 0. 0. 0. 0. 0. 0. 0. 0.]\n",
            " [0. 0. 0. 0. 0. 0. 0. 0. 1. 1. 0. 0. 0. 0. 0. 0. 0. 0. 0. 0.]\n",
            " [0. 0. 0. 0. 0. 1. 0. 0. 1. 0. 0. 0. 1. 0. 0. 0. 0. 0. 0. 0.]\n",
            " [1. 0. 0. 1. 1. 0. 1. 0. 0. 1. 1. 1. 0. 0. 0. 0. 0. 0. 0. 0.]\n",
            " [0. 0. 0. 1. 0. 1. 1. 0. 0. 1. 1. 1. 0. 0. 0. 0. 0. 0. 1. 0.]\n",
            " [0. 0. 0. 0. 0. 0. 1. 0. 0. 1. 1. 1. 0. 0. 0. 0. 0. 0. 0. 0.]\n",
            " [0. 0. 1. 1. 1. 0. 0. 0. 0. 1. 0. 1. 0. 1. 0. 0. 1. 0. 1. 0.]]\n",
            "Результаты для исполнителя 16:\n",
            "[[0. 0. 0. 0. 0. 0. 0. 0. 0. 0. 0. 0. 0. 0. 0. 0. 0. 0. 0. 0.]\n",
            " [0. 0. 0. 0. 0. 0. 0. 1. 0. 0. 0. 1. 0. 0. 0. 0. 0. 0. 0. 0.]\n",
            " [1. 0. 0. 0. 0. 1. 0. 0. 0. 0. 0. 1. 0. 0. 0. 0. 0. 0. 0. 1.]\n",
            " [1. 0. 1. 0. 1. 0. 0. 0. 0. 0. 0. 0. 1. 0. 0. 0. 1. 1. 0. 1.]\n",
            " [0. 1. 0. 0. 0. 0. 0. 1. 0. 0. 0. 1. 0. 0. 1. 0. 0. 0. 0. 0.]\n",
            " [1. 1. 0. 0. 0. 0. 0. 0. 1. 0. 0. 1. 0. 0. 1. 1. 0. 0. 0. 0.]\n",
            " [1. 0. 1. 0. 1. 0. 0. 1. 0. 1. 0. 0. 0. 0. 0. 0. 1. 1. 1. 0.]\n",
            " [0. 0. 0. 0. 0. 0. 0. 0. 0. 0. 0. 1. 0. 0. 0. 0. 0. 0. 0. 0.]\n",
            " [0. 0. 0. 0. 0. 0. 0. 1. 0. 0. 0. 1. 0. 0. 0. 0. 0. 0. 0. 0.]\n",
            " [1. 0. 0. 0. 0. 1. 0. 0. 1. 0. 1. 1. 0. 0. 1. 0. 1. 0. 1. 1.]\n",
            " [1. 0. 0. 0. 1. 1. 0. 1. 0. 0. 0. 0. 0. 0. 0. 0. 0. 0. 0. 0.]\n",
            " [0. 0. 0. 0. 0. 0. 0. 0. 0. 0. 0. 0. 0. 0. 0. 0. 0. 0. 0. 0.]\n",
            " [0. 1. 1. 0. 0. 0. 0. 0. 0. 1. 0. 0. 0. 0. 0. 1. 0. 0. 1. 0.]\n",
            " [0. 0. 0. 0. 0. 1. 0. 1. 1. 0. 0. 0. 0. 0. 0. 0. 0. 0. 0. 1.]\n",
            " [0. 1. 0. 0. 0. 0. 0. 0. 1. 0. 0. 1. 0. 0. 0. 0. 0. 0. 0. 0.]\n",
            " [0. 0. 0. 0. 0. 0. 0. 1. 1. 0. 0. 0. 0. 0. 0. 0. 0. 0. 0. 0.]\n",
            " [1. 0. 0. 0. 1. 0. 0. 1. 0. 0. 1. 1. 0. 0. 0. 0. 0. 0. 0. 1.]\n",
            " [0. 0. 0. 0. 0. 1. 0. 1. 0. 1. 1. 1. 1. 1. 0. 0. 0. 0. 1. 0.]\n",
            " [0. 1. 0. 0. 1. 1. 0. 1. 0. 0. 1. 1. 0. 0. 0. 0. 0. 0. 0. 1.]\n",
            " [0. 0. 0. 0. 1. 0. 0. 1. 0. 0. 0. 1. 0. 0. 0. 0. 0. 0. 0. 0.]]\n"
          ],
          "name": "stdout"
        }
      ]
    },
    {
      "cell_type": "code",
      "metadata": {
        "id": "GvTiqxZeE8Qo",
        "colab_type": "code",
        "outputId": "3794889b-735f-40c7-b5ad-3372e2888e50",
        "colab": {
          "base_uri": "https://localhost:8080/",
          "height": 1000
        }
      },
      "source": [
        "for mRNN in  all_RNN:\n",
        "    iterations = np.arange(0,len(mRNN.energies))\n",
        "#print(iterations)\n",
        "#print(len(energies))\n",
        "    e =  np.zeros((len(mRNN.energies),))\n",
        "#print(e)\n",
        "    print(\"energy values\")\n",
        "    for i in range(len(mRNN.energies)):\n",
        "        e[i] = K.eval(mRNN.energies[i])\n",
        "         \n",
        "        print(e[i])\n",
        "    #print(K.eval(energies[i]))\n",
        "#j=0\n",
        "#for i in range(0,len(mRNN.energies),10):\n",
        "    #energy[j] = K.eval(mRNN.energies[i])\n",
        "    #j=j+1\n",
        "        \n",
        "    plt.plot(iterations,e, marker='o')\n",
        "    plt.title(\"График функции энергии для исполнителя \"+str(mRNN.worker))\n",
        "    plt.xlabel(\"количество итераций\")\n",
        "    plt.ylabel(\"значение функции энергии\")\n",
        "    plt.show()"
      ],
      "execution_count": 23,
      "outputs": [
        {
          "output_type": "stream",
          "text": [
            "energy values\n",
            "453732.6875\n",
            "123026.078125\n",
            "122962.0859375\n"
          ],
          "name": "stdout"
        },
        {
          "output_type": "display_data",
          "data": {
            "image/png": "[encoded data removed]",
            "text/plain": [
              "<Figure size 432x288 with 1 Axes>"
            ]
          },
          "metadata": {
            "tags": [],
            "needs_background": "light"
          }
        },
        {
          "output_type": "stream",
          "text": [
            "energy values\n",
            "631018.8125\n",
            "303274.625\n",
            "302884.71875\n",
            "302502.25\n"
          ],
          "name": "stdout"
        },
        {
          "output_type": "display_data",
          "data": {
            "image/png": "[encoded data removed]",
            "text/plain": [
              "<Figure size 432x288 with 1 Axes>"
            ]
          },
          "metadata": {
            "tags": [],
            "needs_background": "light"
          }
        },
        {
          "output_type": "stream",
          "text": [
            "energy values\n",
            "451808.34375\n",
            "115348.0859375\n",
            "115272.734375\n"
          ],
          "name": "stdout"
        },
        {
          "output_type": "display_data",
          "data": {
            "image/png": "[encoded data removed]",
            "text/plain": [
              "<Figure size 432x288 with 1 Axes>"
            ]
          },
          "metadata": {
            "tags": [],
            "needs_background": "light"
          }
        },
        {
          "output_type": "stream",
          "text": [
            "energy values\n",
            "418549.8125\n",
            "99313.8046875\n",
            "99277.625\n",
            "99174.875\n"
          ],
          "name": "stdout"
        },
        {
          "output_type": "display_data",
          "data": {
            "image/png": "[encoded data removed]",
            "text/plain": [
              "<Figure size 432x288 with 1 Axes>"
            ]
          },
          "metadata": {
            "tags": [],
            "needs_background": "light"
          }
        },
        {
          "output_type": "stream",
          "text": [
            "energy values\n",
            "511465.3125\n",
            "190843.4375\n",
            "190672.59375\n",
            "190543.71875\n"
          ],
          "name": "stdout"
        },
        {
          "output_type": "display_data",
          "data": {
            "image/png": "[encoded data removed]",
            "text/plain": [
              "<Figure size 432x288 with 1 Axes>"
            ]
          },
          "metadata": {
            "tags": [],
            "needs_background": "light"
          }
        },
        {
          "output_type": "stream",
          "text": [
            "energy values\n",
            "467451.90625\n",
            "143294.515625\n",
            "143183.296875\n"
          ],
          "name": "stdout"
        },
        {
          "output_type": "display_data",
          "data": {
            "image/png": "[encoded data removed]",
            "text/plain": [
              "<Figure size 432x288 with 1 Axes>"
            ]
          },
          "metadata": {
            "tags": [],
            "needs_background": "light"
          }
        },
        {
          "output_type": "stream",
          "text": [
            "energy values\n",
            "443627.3125\n",
            "118564.609375\n",
            "118516.421875\n",
            "118439.3125\n"
          ],
          "name": "stdout"
        },
        {
          "output_type": "display_data",
          "data": {
            "image/png": "[encoded data removed]",
            "text/plain": [
              "<Figure size 432x288 with 1 Axes>"
            ]
          },
          "metadata": {
            "tags": [],
            "needs_background": "light"
          }
        },
        {
          "output_type": "stream",
          "text": [
            "energy values\n",
            "462463.625\n",
            "131279.375\n",
            "131205.75\n"
          ],
          "name": "stdout"
        },
        {
          "output_type": "display_data",
          "data": {
            "image/png": "[encoded data removed]",
            "text/plain": [
              "<Figure size 432x288 with 1 Axes>"
            ]
          },
          "metadata": {
            "tags": [],
            "needs_background": "light"
          }
        },
        {
          "output_type": "stream",
          "text": [
            "energy values\n",
            "415417.40625\n",
            "88138.546875\n"
          ],
          "name": "stdout"
        },
        {
          "output_type": "display_data",
          "data": {
            "image/png": "[encoded data removed]",
            "text/plain": [
              "<Figure size 432x288 with 1 Axes>"
            ]
          },
          "metadata": {
            "tags": [],
            "needs_background": "light"
          }
        },
        {
          "output_type": "stream",
          "text": [
            "energy values\n",
            "495845.0\n",
            "170324.59375\n",
            "170163.09375\n"
          ],
          "name": "stdout"
        },
        {
          "output_type": "display_data",
          "data": {
            "image/png": "[encoded data removed]",
            "text/plain": [
              "<Figure size 432x288 with 1 Axes>"
            ]
          },
          "metadata": {
            "tags": [],
            "needs_background": "light"
          }
        },
        {
          "output_type": "stream",
          "text": [
            "energy values\n",
            "491322.0\n",
            "159082.796875\n",
            "158973.859375\n",
            "158924.3125\n"
          ],
          "name": "stdout"
        },
        {
          "output_type": "display_data",
          "data": {
            "image/png": "[encoded data removed]",
            "text/plain": [
              "<Figure size 432x288 with 1 Axes>"
            ]
          },
          "metadata": {
            "tags": [],
            "needs_background": "light"
          }
        },
        {
          "output_type": "stream",
          "text": [
            "energy values\n",
            "472103.0625\n",
            "149605.125\n",
            "149482.703125\n",
            "149417.046875\n"
          ],
          "name": "stdout"
        },
        {
          "output_type": "display_data",
          "data": {
            "image/png": "[encoded data removed]",
            "text/plain": [
              "<Figure size 432x288 with 1 Axes>"
            ]
          },
          "metadata": {
            "tags": [],
            "needs_background": "light"
          }
        },
        {
          "output_type": "stream",
          "text": [
            "energy values\n",
            "488600.0\n",
            "163990.390625\n",
            "163848.0\n"
          ],
          "name": "stdout"
        },
        {
          "output_type": "display_data",
          "data": {
            "image/png": "[encoded data removed]",
            "text/plain": [
              "<Figure size 432x288 with 1 Axes>"
            ]
          },
          "metadata": {
            "tags": [],
            "needs_background": "light"
          }
        }
      ]
    },
    {
      "cell_type": "code",
      "metadata": {
        "id": "1Xlw9evLFF-B",
        "colab_type": "code",
        "outputId": "1844ed3a-ec39-43ad-c2ff-c6c964d7f519",
        "colab": {
          "base_uri": "https://localhost:8080/",
          "height": 35
        }
      },
      "source": [
        "all_finish = time.time()\n",
        "all_result = all_finish - all_start\n",
        "print(\"Общее время: \" + str(all_result) + \" секунд\")"
      ],
      "execution_count": 24,
      "outputs": [
        {
          "output_type": "stream",
          "text": [
            "Общее время: 41.29737710952759 секунд\n"
          ],
          "name": "stdout"
        }
      ]
    }
  ]
}