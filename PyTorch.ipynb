{
  "nbformat": 4,
  "nbformat_minor": 0,
  "metadata": {
    "colab": {
      "name": "PyTorch.ipynb",
      "provenance": [],
      "collapsed_sections": [],
      "authorship_tag": "ABX9TyNPImvO9UbMkV/EqFnDqPkV",
      "include_colab_link": true
    },
    "kernelspec": {
      "name": "python3",
      "display_name": "Python 3"
    },
    "accelerator": "GPU"
  },
  "cells": [
    {
      "cell_type": "markdown",
      "metadata": {
        "id": "view-in-github",
        "colab_type": "text"
      },
      "source": [
        "<a href=\"https://colab.research.google.com/github/Mors666/hopfieldRNN/blob/master/PyTorch.ipynb\" target=\"_parent\"><img src=\"https://colab.research.google.com/assets/colab-badge.svg\" alt=\"Open In Colab\"/></a>"
      ]
    },
    {
      "cell_type": "code",
      "metadata": {
        "id": "d37KmX-oc6lQ",
        "colab_type": "code",
        "colab": {}
      },
      "source": [
        "import torch\n",
        "import numpy as np\n",
        "from sympy import KroneckerDelta as kron\n",
        "import matplotlib.pyplot as plt\n",
        "#import pydot\n",
        "import time\n",
        "import random"
      ],
      "execution_count": 0,
      "outputs": []
    },
    {
      "cell_type": "code",
      "metadata": {
        "id": "H2qtCMRjwaNS",
        "colab_type": "code",
        "colab": {}
      },
      "source": [
        "torch.set_printoptions(threshold=5000)"
      ],
      "execution_count": 0,
      "outputs": []
    },
    {
      "cell_type": "code",
      "metadata": {
        "id": "ysRROWGae1JS",
        "colab_type": "code",
        "outputId": "9e40c245-bd30-44c5-89ee-5053944919d8",
        "colab": {
          "base_uri": "https://localhost:8080/",
          "height": 1000
        }
      },
      "source": [
        "n = torch.LongTensor([30]) #общее число работников в организации\n",
        "\n",
        "C = np.random.randint(0, 11, (n, n)) #затраты ребер графа\n",
        "C = np.tril(C) + np.tril(C, -1).T #матрица затрат должна быть симметричной\n",
        "np.fill_diagonal(C, 0, wrap=False)\n",
        "\n",
        "P = np.random.randint(0, 2, (n, n)) #несуществующие ребра графа\n",
        "P = np.tril(P) + np.tril(P, -1).T\n",
        "#P = (P + P.T)/2\n",
        "np.fill_diagonal(P, 1, wrap=False) \n",
        "\n",
        "for i in range(n):\n",
        "    for j in range(n):\n",
        "        if P[i][j] == 1:\n",
        "            C[i][j] = 10\n",
        "\n",
        "print('матрица затрат')\n",
        "print(C)\n",
        "\n",
        "C = torch.from_numpy(C).cuda()\n",
        "P = torch.from_numpy(P).cuda()\n"
      ],
      "execution_count": 22,
      "outputs": [
        {
          "output_type": "stream",
          "text": [
            "матрица затрат\n",
            "[[10 10 10 10 10  9  7  9 10  5  0 10 10  1  2 10 10 10 10  4 10 10 10  1\n",
            "  10 10 10  2 10 10]\n",
            " [10 10  4 10  7 10  7  7  7 10  7  4 10 10 10  0  9  3 10 10 10 10  2 10\n",
            "   7 10 10 10 10 10]\n",
            " [10  4 10  7  4 10 10  6  5 10 10 10  0 10  9  7 10 10 10  4  5 10  5 10\n",
            "  10 10 10 10 10 10]\n",
            " [10 10  7 10 10  8 10 10  8 10 10  8 10 10  7  1 10  5  5  7 10  1 10  5\n",
            "  10  8 10 10 10 10]\n",
            " [10  7  4 10 10  9 10 10 10  9 10 10 10  0 10 10 10 10  2  5 10 10  5 10\n",
            "   5  1 10 10  6  5]\n",
            " [ 9 10 10  8  9 10  8  1 10  1 10  4 10  4 10  8 10 10  3 10 10 10  5  4\n",
            "  10 10  0 10  5 10]\n",
            " [ 7  7 10 10 10  8 10 10  2  8 10  5  5 10  4 10  7  9 10 10 10 10 10  7\n",
            "  10  7  2 10  3 10]\n",
            " [ 9  7  6 10 10  1 10 10  7 10 10 10  0  0  0 10  2 10  4 10 10 10  0 10\n",
            "   9 10 10  0 10  6]\n",
            " [10  7  5  8 10 10  2  7 10  9  3 10  0 10 10 10  3  0  5  9  5 10  8 10\n",
            "   7 10  6 10  2 10]\n",
            " [ 5 10 10 10  9  1  8 10  9 10  7  8 10  7 10  2 10  9 10 10  5 10 10  2\n",
            "  10  4  5 10 10 10]\n",
            " [ 0  7 10 10 10 10 10 10  3  7 10  9 10 10  7  9  9  5  4 10 10  3  1 10\n",
            "   8 10 10 10 10  3]\n",
            " [10  4 10  8 10  4  5 10 10  8  9 10 10  5 10  4  9  2 10 10  7 10 10 10\n",
            "   6 10  3  0 10 10]\n",
            " [10 10  0 10 10 10  5  0  0 10 10 10 10 10 10 10  3  2  4 10  2  8 10  2\n",
            "  10 10 10 10 10 10]\n",
            " [ 1 10 10 10  0  4 10  0 10  7 10  5 10 10 10  2 10  9 10  1 10 10 10  7\n",
            "   4  7 10 10  0 10]\n",
            " [ 2 10  9  7 10 10  4  0 10 10  7 10 10 10 10 10 10 10  0 10 10  6 10  5\n",
            "   0 10  9  1  3 10]\n",
            " [10  0  7  1 10  8 10 10 10  2  9  4 10  2 10 10  3 10 10  3 10  2 10 10\n",
            "  10 10 10 10 10 10]\n",
            " [10  9 10 10 10 10  7  2  3 10  9  9  3 10 10  3 10  0 10 10  4 10  7  8\n",
            "  10 10 10 10  6  0]\n",
            " [10  3 10  5 10 10  9 10  0  9  5  2  2  9 10 10  0 10  7 10  4  6  4 10\n",
            "  10 10  4 10 10 10]\n",
            " [10 10 10  5  2  3 10  4  5 10  4 10  4 10  0 10 10  7 10  0 10  2 10  6\n",
            "   3 10  1 10  0 10]\n",
            " [ 4 10  4  7  5 10 10 10  9 10 10 10 10  1 10  3 10 10  0 10 10  5  5  4\n",
            "   3 10 10 10 10 10]\n",
            " [10 10  5 10 10 10 10 10  5  5 10  7  2 10 10 10  4  4 10 10 10 10  4 10\n",
            "  10 10 10  2  3  2]\n",
            " [10 10 10  1 10 10 10 10 10 10  3 10  8 10  6  2 10  6  2  5 10 10  0 10\n",
            "  10  4 10 10 10 10]\n",
            " [10  2  5 10  5  5 10  0  8 10  1 10 10 10 10 10  7  4 10  5  4  0 10 10\n",
            "   6  9 10  6  6 10]\n",
            " [ 1 10 10  5 10  4  7 10 10  2 10 10  2  7  5 10  8 10  6  4 10 10 10 10\n",
            "   5 10 10 10 10 10]\n",
            " [10  7 10 10  5 10 10  9  7 10  8  6 10  4  0 10 10 10  3  3 10 10  6  5\n",
            "  10  1 10  7  5  9]\n",
            " [10 10 10  8  1 10  7 10 10  4 10 10 10  7 10 10 10 10 10 10 10  4  9 10\n",
            "   1 10  3 10 10 10]\n",
            " [10 10 10 10 10  0  2 10  6  5 10  3 10 10  9 10 10  4  1 10 10 10 10 10\n",
            "  10  3 10 10 10 10]\n",
            " [ 2 10 10 10 10 10 10  0 10 10 10  0 10 10  1 10 10 10 10 10  2 10  6 10\n",
            "   7 10 10 10 10 10]\n",
            " [10 10 10 10  6  5  3 10  2 10 10 10 10  0  3 10  6 10  0 10  3 10  6 10\n",
            "   5 10 10 10 10  0]\n",
            " [10 10 10 10  5 10 10  6 10 10  3 10 10 10 10 10  0 10 10 10  2 10 10 10\n",
            "   9 10 10 10  0 10]]\n"
          ],
          "name": "stdout"
        }
      ]
    },
    {
      "cell_type": "code",
      "metadata": {
        "id": "FHJBHMP4gzB-",
        "colab_type": "code",
        "colab": {}
      },
      "source": [
        "mu1 =torch.FloatTensor([950.]).cuda()#3000\n",
        "mu2 = torch.FloatTensor([475.]).cuda()#480\n",
        "mu3 = torch.FloatTensor([1500.]).cuda()#50000\n",
        "mu4 = torch.FloatTensor([2500.]).cuda()#15000\n",
        "mu5 = torch.FloatTensor([2500.]).cuda()#50000"
      ],
      "execution_count": 0,
      "outputs": []
    },
    {
      "cell_type": "code",
      "metadata": {
        "id": "TKKKMeEqhA5W",
        "colab_type": "code",
        "outputId": "2cebe0a8-9e7e-46fb-843b-3fa7b15573db",
        "colab": {
          "base_uri": "https://localhost:8080/",
          "height": 35
        }
      },
      "source": [
        "A = torch.FloatTensor([0.0001]).cuda() \n",
        "B = torch.FloatTensor([0.00001]).cuda()\n",
        "D = torch.FloatTensor([0.00001]).cuda()\n",
        "\n",
        "ex_number = np.around(n.mul(2/3), decimals=0) # 2/3 - кол-во исполнителей относительно общего числа работников\n",
        "director = 0 #номер узла, соответствующего топ-менеджеру в иерархии\n",
        "executors = random.sample(range(1,n), int(ex_number)) #случайно выбранные индексы исполнителей  \n",
        "print(executors)"
      ],
      "execution_count": 24,
      "outputs": [
        {
          "output_type": "stream",
          "text": [
            "[27, 17, 3, 8, 25, 24, 16, 13, 18, 19, 9, 15, 5, 1, 2, 7, 10, 21, 11, 29]\n"
          ],
          "name": "stdout"
        }
      ]
    },
    {
      "cell_type": "code",
      "metadata": {
        "id": "i33uy8WijQsP",
        "colab_type": "code",
        "colab": {}
      },
      "source": [
        "weights = torch.zeros((n*n,n*n)).cuda()"
      ],
      "execution_count": 0,
      "outputs": []
    },
    {
      "cell_type": "code",
      "metadata": {
        "id": "XTIft6pxkVkN",
        "colab_type": "code",
        "colab": {}
      },
      "source": [
        "def init_weights():\n",
        "    start = time.time()\n",
        "    '''x = torch.ByteTensor([0]).cuda()\n",
        "    y= torch.ByteTensor([0]).cuda()\n",
        "    i= torch.ByteTensor([0]).cuda()\n",
        "    j= torch.ByteTensor([0]).cuda()'''\n",
        "      \n",
        "    for x in range(n):\n",
        "        for i in range(n):\n",
        "            for y in range(n):\n",
        "                for j in range(n):\n",
        "                    if x==y==i==j:\n",
        "                        weights[n*x+i,n*y+j] = mu2\n",
        "                    elif x==y and i==j and j!=x:\n",
        "                        weights[n*x+i,n*y+j] = mu2.sub(mu4.sub(mu4))  \n",
        "                    elif (x==y and i!=j and (j==x or i==y)) or (x!=y!=i!=j) or (x!=y and i==j and (j==x or i==y)):\n",
        "                        weights[n*x+i,n*y+j] = 0.\n",
        "                    elif x!=y and i!=j and j==x and i==y:\n",
        "                        weights[n*x+i,n*y+j] =  mu4.add(mu4)  \n",
        "                    elif x!=y and i!=j and (j==x or i==y):    \n",
        "                        weights[n*x+i,n*y+j] = mu4\n",
        "                    elif (x==y or i==j) and j!=x and i!=y:\n",
        "                        weights[n*x+i,n*y+j] = -mu4\n",
        "                     \n",
        "                    #weights[n*x+i,n*y+j] = mu2.mul(torch.FloatTensor([kron(x, y)*kron(i, j)]).cuda()) - mu4.mul(torch.FloatTensor([kron(x, y)]).cuda()) - mu4.mul(torch.FloatTensor([kron(i, j)]).cuda()) + mu4.mul(torch.FloatTensor([kron(j, x)]).cuda()) + mu4.mul(torch.FloatTensor([kron(i, y)]).cuda())\n",
        "                    #mu2*kron(x, y)*kron(i, j) - mu4*kron(x, y) - mu4*kron(i, j) + mu4*kron(j, x) + mu4*kron(i, y)\n",
        "    \n",
        "    finish = time.time()\n",
        "    result = finish - start\n",
        "    print(\"Время на инициализацию матрицы весов: \" + str(result) + \" секунд\")\n",
        "    return weights"
      ],
      "execution_count": 0,
      "outputs": []
    },
    {
      "cell_type": "code",
      "metadata": {
        "id": "4uM0zkQvkf4U",
        "colab_type": "code",
        "outputId": "896b4dfc-6c2e-4aff-a1b8-406fc58b27b6",
        "colab": {
          "base_uri": "https://localhost:8080/",
          "height": 173
        }
      },
      "source": [
        "init_weights()"
      ],
      "execution_count": 29,
      "outputs": [
        {
          "output_type": "stream",
          "text": [
            "Время на инициализацию матрицы весов: 59.05066418647766 секунд\n"
          ],
          "name": "stdout"
        },
        {
          "output_type": "execute_result",
          "data": {
            "text/plain": [
              "tensor([[  475.,     0.,     0.,  ...,     0.,     0.,     0.],\n",
              "        [    0.,   475., -2500.,  ...,     0.,     0.,     0.],\n",
              "        [    0., -2500.,   475.,  ...,     0.,     0.,     0.],\n",
              "        ...,\n",
              "        [    0.,     0.,     0.,  ...,   475., -2500.,     0.],\n",
              "        [    0.,     0.,     0.,  ..., -2500.,   475.,     0.],\n",
              "        [    0.,     0.,     0.,  ...,     0.,     0.,   475.]],\n",
              "       device='cuda:0')"
            ]
          },
          "metadata": {
            "tags": []
          },
          "execution_count": 29
        }
      ]
    },
    {
      "cell_type": "code",
      "metadata": {
        "id": "OFztfARUGi81",
        "colab_type": "code",
        "colab": {}
      },
      "source": [
        "def energy(m,OUT, ftype):\n",
        "    #OUT = K.reshape(OUT, (n,n))\n",
        "    #ftype = ftype + OUT\n",
        "     \n",
        "    E1 = torch.FloatTensor([0]).cuda() \n",
        "    E2 = torch.FloatTensor([0]).cuda()\n",
        "    E3 = torch.FloatTensor([0]).cuda()\n",
        "    E4 = torch.FloatTensor([0]).cuda()\n",
        "    E5 = torch.FloatTensor([0]).cuda()\n",
        "    \n",
        "    for x in range(n):\n",
        "        for i in range(n):\n",
        "            if (i != x) and (x!=m and i!=director):\n",
        "                E1 = E1.add(torch.mul(C[x][i], torch.mul(torch.div(1,torch.add(1,ftype[x][i])),OUT[x][i]))) \n",
        "                #E1 + C[x][i]*(1/(1+ftype[x][i]))*OUT[x][i]  \n",
        "                E3 = E3.add(torch.mul(P[x][i],OUT[x][i]))\n",
        "                #E3+P[x][i]*OUT[x][i]\n",
        "            if i != x:\n",
        "                E2 =  E2.add(torch.mul(OUT[x][i],torch.sub(1,OUT[x][i])))\n",
        "                #E2 + OUT[x][i]*(1-OUT[x][i])\n",
        "                 \n",
        "                \n",
        "    out1=torch.FloatTensor([0]).cuda()\n",
        "    out2=torch.FloatTensor([0]).cuda()\n",
        "    #square=0\n",
        "    for x in range(n):\n",
        "        for i in range(n):\n",
        "            if i != x:\n",
        "                out1 = out1.add(OUT[x][i])\n",
        "                #out1+OUT[x][i]\n",
        "                out2 = out1.add(OUT[i][x])\n",
        "                #out2+OUT[i][x]\n",
        "        #square = (out1-out2)*(out1-out2)\n",
        "        E4 = E4.add(torch.mul(out1.sub(out2),out1.sub(out2)))\n",
        "        #E4 + (out1-out2)*(out1-out2)\n",
        "        \n",
        "    E5 = torch.sub(1,OUT[m][director])\n",
        "    #1-OUT[m][director]\n",
        "    \n",
        "    E =  torch.add(mu1.mul(E1),mu2.mul(E2))\n",
        "    E = E.add(mu3.mul(E3))\n",
        "    E = E.add(mu4.mul(E4))\n",
        "    E = E.add(mu5.mul(E5))\n",
        "    #torch.add(mu1.mul(E1),torch.add(mu2.mul(E2),torch.add(mu3.mul(E3),torch.add(mu4.mul(E4),torch.add(mu5.mul(E5)))))) \n",
        "    #mu1*E1 + mu2*E2 + mu3*E3 + mu4*E4 + mu5*E5\n",
        "    \n",
        "    #OUT = K.reshape(OUT, (n*n,1))\n",
        "    return E"
      ],
      "execution_count": 0,
      "outputs": []
    }
  ]
}